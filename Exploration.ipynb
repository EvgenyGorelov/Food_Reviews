{
 "cells": [
  {
   "cell_type": "markdown",
   "metadata": {},
   "source": [
    "# 1 Data Cleansing and Exploration\n",
    "## 1.1 Overview \n",
    "\n",
    "The data set is the Amazon Fine Food Reviews dataset consists of reviews of foods from the Amazon online shop.\n",
    "According to the available information on the dataset it contains 568454 reviews from 256059 users for 74258 products and contains data from October 1999 to October 2012.\n",
    "\n",
    "Column contents:\n",
    "\n",
    "- **Id** record number\n",
    "- **ProductId** product Id\n",
    "- **UserId** user Id\n",
    "- **ProfileName** user profile name\n",
    "- **HelpfulnessNumerator** number of users who found the review helpful\n",
    "- **HelpfulnessDenominator** number of users who set the helpful flag\n",
    "- **Score** - rating (1 to 5)\n",
    "- **Time** - timestamp of the review\n",
    "- **Summary** - brief summary of the review\n",
    "- **Text** - body of the review\n",
    "\n",
    "The particular archive https://ga-data-case-food-review.s3-eu-west-1.amazonaws.com/food_reviews.csv.zip contains MacOs auxiliary file \\_\\_MACOSX\\/._Reviews.csv.\n"
   ]
  },
  {
   "cell_type": "code",
   "execution_count": 147,
   "metadata": {},
   "outputs": [],
   "source": [
    "import pandas as pd\n",
    "import matplotlib.pyplot as plt\n",
    "plt.style.use('seaborn-white')\n",
    "%matplotlib inline"
   ]
  },
  {
   "cell_type": "code",
   "execution_count": 2,
   "metadata": {},
   "outputs": [
    {
     "name": "stdout",
     "output_type": "stream",
     "text": [
      "Archive:  ./food_reviews.csv.zip\n",
      "  inflating: Reviews.csv             \n"
     ]
    }
   ],
   "source": [
    "# In order to load the dataset one has to decompress it first,\n",
    "# because original archive contains more than one file \n",
    "# and cannot  be read with the compression option:\n",
    "!unzip -o ./food_reviews.csv.zip Reviews.csv\n",
    "df_ini = pd.read_csv(\"./Reviews.csv\")"
   ]
  },
  {
   "cell_type": "code",
   "execution_count": 3,
   "metadata": {},
   "outputs": [
    {
     "name": "stdout",
     "output_type": "stream",
     "text": [
      "<class 'pandas.core.frame.DataFrame'>\n",
      "RangeIndex: 568454 entries, 0 to 568453\n",
      "Data columns (total 10 columns):\n",
      "Id                        568454 non-null int64\n",
      "ProductId                 568454 non-null object\n",
      "UserId                    568454 non-null object\n",
      "ProfileName               568438 non-null object\n",
      "HelpfulnessNumerator      568454 non-null int64\n",
      "HelpfulnessDenominator    568454 non-null int64\n",
      "Score                     568454 non-null int64\n",
      "Time                      568454 non-null int64\n",
      "Summary                   568427 non-null object\n",
      "Text                      568454 non-null object\n",
      "dtypes: int64(5), object(5)\n",
      "memory usage: 43.4+ MB\n"
     ]
    }
   ],
   "source": [
    "# Obtain general information about the dataset structure:\n",
    "df_ini.info()"
   ]
  },
  {
   "cell_type": "code",
   "execution_count": 4,
   "metadata": {},
   "outputs": [
    {
     "data": {
      "text/html": [
       "<div>\n",
       "<style scoped>\n",
       "    .dataframe tbody tr th:only-of-type {\n",
       "        vertical-align: middle;\n",
       "    }\n",
       "\n",
       "    .dataframe tbody tr th {\n",
       "        vertical-align: top;\n",
       "    }\n",
       "\n",
       "    .dataframe thead th {\n",
       "        text-align: right;\n",
       "    }\n",
       "</style>\n",
       "<table border=\"1\" class=\"dataframe\">\n",
       "  <thead>\n",
       "    <tr style=\"text-align: right;\">\n",
       "      <th></th>\n",
       "      <th>Id</th>\n",
       "      <th>ProductId</th>\n",
       "      <th>UserId</th>\n",
       "      <th>ProfileName</th>\n",
       "      <th>HelpfulnessNumerator</th>\n",
       "      <th>HelpfulnessDenominator</th>\n",
       "      <th>Score</th>\n",
       "      <th>Time</th>\n",
       "      <th>Summary</th>\n",
       "      <th>Text</th>\n",
       "    </tr>\n",
       "  </thead>\n",
       "  <tbody>\n",
       "    <tr>\n",
       "      <th>0</th>\n",
       "      <td>1</td>\n",
       "      <td>B001E4KFG0</td>\n",
       "      <td>A3SGXH7AUHU8GW</td>\n",
       "      <td>delmartian</td>\n",
       "      <td>1</td>\n",
       "      <td>1</td>\n",
       "      <td>5</td>\n",
       "      <td>1303862400</td>\n",
       "      <td>Good Quality Dog Food</td>\n",
       "      <td>I have bought several of the Vitality canned d...</td>\n",
       "    </tr>\n",
       "    <tr>\n",
       "      <th>1</th>\n",
       "      <td>2</td>\n",
       "      <td>B00813GRG4</td>\n",
       "      <td>A1D87F6ZCVE5NK</td>\n",
       "      <td>dll pa</td>\n",
       "      <td>0</td>\n",
       "      <td>0</td>\n",
       "      <td>1</td>\n",
       "      <td>1346976000</td>\n",
       "      <td>Not as Advertised</td>\n",
       "      <td>Product arrived labeled as Jumbo Salted Peanut...</td>\n",
       "    </tr>\n",
       "    <tr>\n",
       "      <th>2</th>\n",
       "      <td>3</td>\n",
       "      <td>B000LQOCH0</td>\n",
       "      <td>ABXLMWJIXXAIN</td>\n",
       "      <td>Natalia Corres \"Natalia Corres\"</td>\n",
       "      <td>1</td>\n",
       "      <td>1</td>\n",
       "      <td>4</td>\n",
       "      <td>1219017600</td>\n",
       "      <td>\"Delight\" says it all</td>\n",
       "      <td>This is a confection that has been around a fe...</td>\n",
       "    </tr>\n",
       "  </tbody>\n",
       "</table>\n",
       "</div>"
      ],
      "text/plain": [
       "   Id   ProductId          UserId                      ProfileName  \\\n",
       "0   1  B001E4KFG0  A3SGXH7AUHU8GW                       delmartian   \n",
       "1   2  B00813GRG4  A1D87F6ZCVE5NK                           dll pa   \n",
       "2   3  B000LQOCH0   ABXLMWJIXXAIN  Natalia Corres \"Natalia Corres\"   \n",
       "\n",
       "   HelpfulnessNumerator  HelpfulnessDenominator  Score        Time  \\\n",
       "0                     1                       1      5  1303862400   \n",
       "1                     0                       0      1  1346976000   \n",
       "2                     1                       1      4  1219017600   \n",
       "\n",
       "                 Summary                                               Text  \n",
       "0  Good Quality Dog Food  I have bought several of the Vitality canned d...  \n",
       "1      Not as Advertised  Product arrived labeled as Jumbo Salted Peanut...  \n",
       "2  \"Delight\" says it all  This is a confection that has been around a fe...  "
      ]
     },
     "execution_count": 4,
     "metadata": {},
     "output_type": "execute_result"
    }
   ],
   "source": [
    "df_ini.head(3)"
   ]
  },
  {
   "cell_type": "code",
   "execution_count": 5,
   "metadata": {},
   "outputs": [
    {
     "name": "stdout",
     "output_type": "stream",
     "text": [
      "Number of distinct Id values:  568454\n",
      "Number of distinct UserId values:  256059\n",
      "Number of distinct ProfileName values:  218416\n",
      "Number of distinct Score values:  5\n",
      "Number of missing Id values:  0\n",
      "Number of missing UserId values:  0\n",
      "Number of missing ProfileName values:  16\n",
      "Number of missing Score values:  0\n"
     ]
    }
   ],
   "source": [
    "print(\"Number of distinct Id values: \", df_ini[\"Id\"].nunique())\n",
    "print(\"Number of distinct UserId values: \", df_ini[\"UserId\"].nunique())\n",
    "print(\"Number of distinct ProfileName values: \", df_ini[\"ProfileName\"].nunique())\n",
    "print(\"Number of distinct Score values: \", df_ini[\"Score\"].nunique())\n",
    "print(\"Number of missing Id values: \", df_ini[\"Id\"].isnull().sum())\n",
    "print(\"Number of missing UserId values: \", df_ini[\"UserId\"].isnull().sum())\n",
    "print(\"Number of missing ProfileName values: \", df_ini[\"ProfileName\"].isnull().sum())\n",
    "print(\"Number of missing Score values: \", df_ini[\"Score\"].isnull().sum())"
   ]
  },
  {
   "cell_type": "markdown",
   "metadata": {},
   "source": [
    "The available dataset is inline with the initial information.\n",
    "There is a few records with missing *ProfileName*:"
   ]
  },
  {
   "cell_type": "code",
   "execution_count": 6,
   "metadata": {},
   "outputs": [
    {
     "data": {
      "text/html": [
       "<div>\n",
       "<style scoped>\n",
       "    .dataframe tbody tr th:only-of-type {\n",
       "        vertical-align: middle;\n",
       "    }\n",
       "\n",
       "    .dataframe tbody tr th {\n",
       "        vertical-align: top;\n",
       "    }\n",
       "\n",
       "    .dataframe thead th {\n",
       "        text-align: right;\n",
       "    }\n",
       "</style>\n",
       "<table border=\"1\" class=\"dataframe\">\n",
       "  <thead>\n",
       "    <tr style=\"text-align: right;\">\n",
       "      <th></th>\n",
       "      <th>Id</th>\n",
       "      <th>ProductId</th>\n",
       "      <th>UserId</th>\n",
       "      <th>ProfileName</th>\n",
       "      <th>HelpfulnessNumerator</th>\n",
       "      <th>HelpfulnessDenominator</th>\n",
       "      <th>Score</th>\n",
       "      <th>Time</th>\n",
       "      <th>Summary</th>\n",
       "      <th>Text</th>\n",
       "    </tr>\n",
       "  </thead>\n",
       "  <tbody>\n",
       "    <tr>\n",
       "      <th>25509</th>\n",
       "      <td>25510</td>\n",
       "      <td>B000LKZB4Y</td>\n",
       "      <td>A36BVYD0NT7Z0F</td>\n",
       "      <td>NaN</td>\n",
       "      <td>0</td>\n",
       "      <td>0</td>\n",
       "      <td>5</td>\n",
       "      <td>1314576000</td>\n",
       "      <td>These are the best mints and no aspartame or BHT</td>\n",
       "      <td>I was so shocked to find out that almost all g...</td>\n",
       "    </tr>\n",
       "    <tr>\n",
       "      <th>38874</th>\n",
       "      <td>38875</td>\n",
       "      <td>B000AYDGZ2</td>\n",
       "      <td>A36BVYD0NT7Z0F</td>\n",
       "      <td>NaN</td>\n",
       "      <td>2</td>\n",
       "      <td>3</td>\n",
       "      <td>1</td>\n",
       "      <td>1278374400</td>\n",
       "      <td>doesn't anyone care that they are putting BHT ...</td>\n",
       "      <td>I called Kellogg's to see why Special K red be...</td>\n",
       "    </tr>\n",
       "    <tr>\n",
       "      <th>49800</th>\n",
       "      <td>49801</td>\n",
       "      <td>B000CRHQN0</td>\n",
       "      <td>A2LYFY32LXQDON</td>\n",
       "      <td>NaN</td>\n",
       "      <td>0</td>\n",
       "      <td>0</td>\n",
       "      <td>2</td>\n",
       "      <td>1282608000</td>\n",
       "      <td>They were melted and the chocolate had turned ...</td>\n",
       "      <td>We love these bars but i won't order them ship...</td>\n",
       "    </tr>\n",
       "    <tr>\n",
       "      <th>67077</th>\n",
       "      <td>67078</td>\n",
       "      <td>B0006348H2</td>\n",
       "      <td>A2P0P67Y55SNOX</td>\n",
       "      <td>NaN</td>\n",
       "      <td>1</td>\n",
       "      <td>1</td>\n",
       "      <td>5</td>\n",
       "      <td>1314662400</td>\n",
       "      <td>Wheatgrass</td>\n",
       "      <td>Kitty seems to like this sprinkled on her food...</td>\n",
       "    </tr>\n",
       "    <tr>\n",
       "      <th>106550</th>\n",
       "      <td>106551</td>\n",
       "      <td>B001EQ5DG0</td>\n",
       "      <td>A1P500QXEG3IUZ</td>\n",
       "      <td>NaN</td>\n",
       "      <td>0</td>\n",
       "      <td>0</td>\n",
       "      <td>5</td>\n",
       "      <td>1326758400</td>\n",
       "      <td>Finally!</td>\n",
       "      <td>You cannot find this in the stores anymore, it...</td>\n",
       "    </tr>\n",
       "    <tr>\n",
       "      <th>137613</th>\n",
       "      <td>137614</td>\n",
       "      <td>B000CQE3HS</td>\n",
       "      <td>AGT3BYX5P9SLH</td>\n",
       "      <td>NaN</td>\n",
       "      <td>0</td>\n",
       "      <td>0</td>\n",
       "      <td>5</td>\n",
       "      <td>1324684800</td>\n",
       "      <td>awesome</td>\n",
       "      <td>i love them they are amazing I would eat them ...</td>\n",
       "    </tr>\n",
       "    <tr>\n",
       "      <th>163191</th>\n",
       "      <td>163192</td>\n",
       "      <td>B000CQID1A</td>\n",
       "      <td>AGT3BYX5P9SLH</td>\n",
       "      <td>NaN</td>\n",
       "      <td>0</td>\n",
       "      <td>0</td>\n",
       "      <td>5</td>\n",
       "      <td>1324684800</td>\n",
       "      <td>awesome</td>\n",
       "      <td>i love them they are amazing I would eat them ...</td>\n",
       "    </tr>\n",
       "    <tr>\n",
       "      <th>172462</th>\n",
       "      <td>172463</td>\n",
       "      <td>B001FA1L9I</td>\n",
       "      <td>AC9U70TRGPDGJ</td>\n",
       "      <td>NaN</td>\n",
       "      <td>0</td>\n",
       "      <td>0</td>\n",
       "      <td>5</td>\n",
       "      <td>1289520000</td>\n",
       "      <td>very good</td>\n",
       "      <td>came in proper packaging.  Have loved British ...</td>\n",
       "    </tr>\n",
       "    <tr>\n",
       "      <th>297275</th>\n",
       "      <td>297276</td>\n",
       "      <td>B007OXJM6E</td>\n",
       "      <td>A29D7XVSBCLFLD</td>\n",
       "      <td>NaN</td>\n",
       "      <td>0</td>\n",
       "      <td>0</td>\n",
       "      <td>1</td>\n",
       "      <td>1325203200</td>\n",
       "      <td>Burnt</td>\n",
       "      <td>The last SEVERAL time we bought this it tasted...</td>\n",
       "    </tr>\n",
       "    <tr>\n",
       "      <th>306751</th>\n",
       "      <td>306752</td>\n",
       "      <td>B000RI1W8E</td>\n",
       "      <td>AGT3BYX5P9SLH</td>\n",
       "      <td>NaN</td>\n",
       "      <td>0</td>\n",
       "      <td>0</td>\n",
       "      <td>5</td>\n",
       "      <td>1324684800</td>\n",
       "      <td>awesome</td>\n",
       "      <td>i love them they are amazing I would eat them ...</td>\n",
       "    </tr>\n",
       "    <tr>\n",
       "      <th>431598</th>\n",
       "      <td>431599</td>\n",
       "      <td>B000W5P0KI</td>\n",
       "      <td>A36BVYD0NT7Z0F</td>\n",
       "      <td>NaN</td>\n",
       "      <td>13</td>\n",
       "      <td>21</td>\n",
       "      <td>1</td>\n",
       "      <td>1298937600</td>\n",
       "      <td>WARNING:  Please read before feeding</td>\n",
       "      <td>WARNING:  I use to feed my dogs Orijen 75% pro...</td>\n",
       "    </tr>\n",
       "    <tr>\n",
       "      <th>440825</th>\n",
       "      <td>440826</td>\n",
       "      <td>B008LFAS08</td>\n",
       "      <td>AC0E8TXIYABB5</td>\n",
       "      <td>NaN</td>\n",
       "      <td>1</td>\n",
       "      <td>1</td>\n",
       "      <td>5</td>\n",
       "      <td>1350432000</td>\n",
       "      <td>The perfect grinder for dog and cat food!</td>\n",
       "      <td>this grinder is super easy to assemble and ope...</td>\n",
       "    </tr>\n",
       "    <tr>\n",
       "      <th>490412</th>\n",
       "      <td>490413</td>\n",
       "      <td>B000CQE3IC</td>\n",
       "      <td>AGT3BYX5P9SLH</td>\n",
       "      <td>NaN</td>\n",
       "      <td>0</td>\n",
       "      <td>0</td>\n",
       "      <td>5</td>\n",
       "      <td>1324684800</td>\n",
       "      <td>awesome</td>\n",
       "      <td>i love them they are amazing I would eat them ...</td>\n",
       "    </tr>\n",
       "    <tr>\n",
       "      <th>491728</th>\n",
       "      <td>491729</td>\n",
       "      <td>B004772PJQ</td>\n",
       "      <td>A29D7XVSBCLFLD</td>\n",
       "      <td>NaN</td>\n",
       "      <td>0</td>\n",
       "      <td>0</td>\n",
       "      <td>1</td>\n",
       "      <td>1325203200</td>\n",
       "      <td>Burnt</td>\n",
       "      <td>The last SEVERAL time we bought this it tasted...</td>\n",
       "    </tr>\n",
       "    <tr>\n",
       "      <th>515436</th>\n",
       "      <td>515437</td>\n",
       "      <td>B004S04X4W</td>\n",
       "      <td>A2H7605OSHVIQ5</td>\n",
       "      <td>NaN</td>\n",
       "      <td>0</td>\n",
       "      <td>0</td>\n",
       "      <td>5</td>\n",
       "      <td>1348704000</td>\n",
       "      <td>Hormel Roast Beef Hash, 15-Ounce</td>\n",
       "      <td>I've been buying this in the grocery stores fr...</td>\n",
       "    </tr>\n",
       "    <tr>\n",
       "      <th>560446</th>\n",
       "      <td>560447</td>\n",
       "      <td>B000CQID1K</td>\n",
       "      <td>AGT3BYX5P9SLH</td>\n",
       "      <td>NaN</td>\n",
       "      <td>0</td>\n",
       "      <td>0</td>\n",
       "      <td>5</td>\n",
       "      <td>1324684800</td>\n",
       "      <td>awesome</td>\n",
       "      <td>i love them they are amazing I would eat them ...</td>\n",
       "    </tr>\n",
       "  </tbody>\n",
       "</table>\n",
       "</div>"
      ],
      "text/plain": [
       "            Id   ProductId          UserId ProfileName  HelpfulnessNumerator  \\\n",
       "25509    25510  B000LKZB4Y  A36BVYD0NT7Z0F         NaN                     0   \n",
       "38874    38875  B000AYDGZ2  A36BVYD0NT7Z0F         NaN                     2   \n",
       "49800    49801  B000CRHQN0  A2LYFY32LXQDON         NaN                     0   \n",
       "67077    67078  B0006348H2  A2P0P67Y55SNOX         NaN                     1   \n",
       "106550  106551  B001EQ5DG0  A1P500QXEG3IUZ         NaN                     0   \n",
       "137613  137614  B000CQE3HS   AGT3BYX5P9SLH         NaN                     0   \n",
       "163191  163192  B000CQID1A   AGT3BYX5P9SLH         NaN                     0   \n",
       "172462  172463  B001FA1L9I   AC9U70TRGPDGJ         NaN                     0   \n",
       "297275  297276  B007OXJM6E  A29D7XVSBCLFLD         NaN                     0   \n",
       "306751  306752  B000RI1W8E   AGT3BYX5P9SLH         NaN                     0   \n",
       "431598  431599  B000W5P0KI  A36BVYD0NT7Z0F         NaN                    13   \n",
       "440825  440826  B008LFAS08   AC0E8TXIYABB5         NaN                     1   \n",
       "490412  490413  B000CQE3IC   AGT3BYX5P9SLH         NaN                     0   \n",
       "491728  491729  B004772PJQ  A29D7XVSBCLFLD         NaN                     0   \n",
       "515436  515437  B004S04X4W  A2H7605OSHVIQ5         NaN                     0   \n",
       "560446  560447  B000CQID1K   AGT3BYX5P9SLH         NaN                     0   \n",
       "\n",
       "        HelpfulnessDenominator  Score        Time  \\\n",
       "25509                        0      5  1314576000   \n",
       "38874                        3      1  1278374400   \n",
       "49800                        0      2  1282608000   \n",
       "67077                        1      5  1314662400   \n",
       "106550                       0      5  1326758400   \n",
       "137613                       0      5  1324684800   \n",
       "163191                       0      5  1324684800   \n",
       "172462                       0      5  1289520000   \n",
       "297275                       0      1  1325203200   \n",
       "306751                       0      5  1324684800   \n",
       "431598                      21      1  1298937600   \n",
       "440825                       1      5  1350432000   \n",
       "490412                       0      5  1324684800   \n",
       "491728                       0      1  1325203200   \n",
       "515436                       0      5  1348704000   \n",
       "560446                       0      5  1324684800   \n",
       "\n",
       "                                                  Summary  \\\n",
       "25509    These are the best mints and no aspartame or BHT   \n",
       "38874   doesn't anyone care that they are putting BHT ...   \n",
       "49800   They were melted and the chocolate had turned ...   \n",
       "67077                                          Wheatgrass   \n",
       "106550                                           Finally!   \n",
       "137613                                            awesome   \n",
       "163191                                            awesome   \n",
       "172462                                          very good   \n",
       "297275                                              Burnt   \n",
       "306751                                            awesome   \n",
       "431598               WARNING:  Please read before feeding   \n",
       "440825          The perfect grinder for dog and cat food!   \n",
       "490412                                            awesome   \n",
       "491728                                              Burnt   \n",
       "515436                   Hormel Roast Beef Hash, 15-Ounce   \n",
       "560446                                            awesome   \n",
       "\n",
       "                                                     Text  \n",
       "25509   I was so shocked to find out that almost all g...  \n",
       "38874   I called Kellogg's to see why Special K red be...  \n",
       "49800   We love these bars but i won't order them ship...  \n",
       "67077   Kitty seems to like this sprinkled on her food...  \n",
       "106550  You cannot find this in the stores anymore, it...  \n",
       "137613  i love them they are amazing I would eat them ...  \n",
       "163191  i love them they are amazing I would eat them ...  \n",
       "172462  came in proper packaging.  Have loved British ...  \n",
       "297275  The last SEVERAL time we bought this it tasted...  \n",
       "306751  i love them they are amazing I would eat them ...  \n",
       "431598  WARNING:  I use to feed my dogs Orijen 75% pro...  \n",
       "440825  this grinder is super easy to assemble and ope...  \n",
       "490412  i love them they are amazing I would eat them ...  \n",
       "491728  The last SEVERAL time we bought this it tasted...  \n",
       "515436  I've been buying this in the grocery stores fr...  \n",
       "560446  i love them they are amazing I would eat them ...  "
      ]
     },
     "execution_count": 6,
     "metadata": {},
     "output_type": "execute_result"
    }
   ],
   "source": [
    "df_ini[df_ini[\"ProfileName\"].isnull()]"
   ]
  },
  {
   "cell_type": "markdown",
   "metadata": {},
   "source": [
    "The records looks healthy apart the profile name and could be used for further analysis.\n",
    "\n",
    "Now let's check the text fields:"
   ]
  },
  {
   "cell_type": "code",
   "execution_count": 133,
   "metadata": {},
   "outputs": [
    {
     "name": "stdout",
     "output_type": "stream",
     "text": [
      "min and max length of Summary:  1.0 128.0\n",
      "min and max length of Text:  12 21409\n",
      "327878    I drink this tea every night, made with 12 oun...\n",
      "552528    This black leaf tea is rich and strong. Perfec...\n",
      "530977    This black tea is my husband's favorite and th...\n",
      "229084    Product was received with a broken NO-TAMPER s...\n",
      "52495     it is true taste and like having fresh pineapp...\n",
      "568309    I have had a lot of granola bars in the past. ...\n",
      "386737    I purchased this coffee because I love Gloria ...\n",
      "376862    I have been using this product for my dog for ...\n",
      "453058    I *loved* this tea.  I am mostly alone in my l...\n",
      "465522    This is a great get started kit that allows yo...\n",
      "386424    Chocolate glazed donut.  The flavor and aroma ...\n",
      "198266    The Golden Gate Ficus Bonsai arrived in excell...\n",
      "469894    If you like oatmeal cookies, you'll love this ...\n",
      "400029    The 100 calories is reasonable for a coffee pi...\n",
      "512704    5 star.  Our vet recommended this product for ...\n",
      "Name: Text, dtype: object\n"
     ]
    }
   ],
   "source": [
    "print(\"min and max length of Summary: \",\n",
    "      df_ini[\"Summary\"].str.len().min(), \n",
    "      df_ini[\"Summary\"].str.len().max())\n",
    "print(\"min and max length of Text: \",\n",
    "      df_ini[\"Text\"].str.len().min(), \n",
    "      df_ini[\"Text\"].str.len().max())\n",
    "print(df_ini[\"Text\"].sample(15))"
   ]
  },
  {
   "cell_type": "markdown",
   "metadata": {},
   "source": [
    "All text fields have nonzero length. The text data cleansing will not be performed at the moment,\n",
    "because it could be done at tokenization stage."
   ]
  },
  {
   "cell_type": "markdown",
   "metadata": {},
   "source": [
    "The dataframe description shows that *Score*, *HelpfulnessNumerator* and *HelpfulnessNumerator* also are in the correct range:"
   ]
  },
  {
   "cell_type": "code",
   "execution_count": 112,
   "metadata": {},
   "outputs": [
    {
     "data": {
      "text/html": [
       "<div>\n",
       "<style scoped>\n",
       "    .dataframe tbody tr th:only-of-type {\n",
       "        vertical-align: middle;\n",
       "    }\n",
       "\n",
       "    .dataframe tbody tr th {\n",
       "        vertical-align: top;\n",
       "    }\n",
       "\n",
       "    .dataframe thead th {\n",
       "        text-align: right;\n",
       "    }\n",
       "</style>\n",
       "<table border=\"1\" class=\"dataframe\">\n",
       "  <thead>\n",
       "    <tr style=\"text-align: right;\">\n",
       "      <th></th>\n",
       "      <th>Id</th>\n",
       "      <th>HelpfulnessNumerator</th>\n",
       "      <th>HelpfulnessDenominator</th>\n",
       "      <th>Score</th>\n",
       "      <th>Time</th>\n",
       "    </tr>\n",
       "  </thead>\n",
       "  <tbody>\n",
       "    <tr>\n",
       "      <th>count</th>\n",
       "      <td>568454.000000</td>\n",
       "      <td>568454.000000</td>\n",
       "      <td>568454.00000</td>\n",
       "      <td>568454.000000</td>\n",
       "      <td>5.684540e+05</td>\n",
       "    </tr>\n",
       "    <tr>\n",
       "      <th>mean</th>\n",
       "      <td>284227.500000</td>\n",
       "      <td>1.743817</td>\n",
       "      <td>2.22881</td>\n",
       "      <td>4.183199</td>\n",
       "      <td>1.296257e+09</td>\n",
       "    </tr>\n",
       "    <tr>\n",
       "      <th>std</th>\n",
       "      <td>164098.679298</td>\n",
       "      <td>7.636513</td>\n",
       "      <td>8.28974</td>\n",
       "      <td>1.310436</td>\n",
       "      <td>4.804331e+07</td>\n",
       "    </tr>\n",
       "    <tr>\n",
       "      <th>min</th>\n",
       "      <td>1.000000</td>\n",
       "      <td>0.000000</td>\n",
       "      <td>0.00000</td>\n",
       "      <td>1.000000</td>\n",
       "      <td>9.393408e+08</td>\n",
       "    </tr>\n",
       "    <tr>\n",
       "      <th>25%</th>\n",
       "      <td>142114.250000</td>\n",
       "      <td>0.000000</td>\n",
       "      <td>0.00000</td>\n",
       "      <td>4.000000</td>\n",
       "      <td>1.271290e+09</td>\n",
       "    </tr>\n",
       "    <tr>\n",
       "      <th>50%</th>\n",
       "      <td>284227.500000</td>\n",
       "      <td>0.000000</td>\n",
       "      <td>1.00000</td>\n",
       "      <td>5.000000</td>\n",
       "      <td>1.311120e+09</td>\n",
       "    </tr>\n",
       "    <tr>\n",
       "      <th>75%</th>\n",
       "      <td>426340.750000</td>\n",
       "      <td>2.000000</td>\n",
       "      <td>2.00000</td>\n",
       "      <td>5.000000</td>\n",
       "      <td>1.332720e+09</td>\n",
       "    </tr>\n",
       "    <tr>\n",
       "      <th>max</th>\n",
       "      <td>568454.000000</td>\n",
       "      <td>866.000000</td>\n",
       "      <td>923.00000</td>\n",
       "      <td>5.000000</td>\n",
       "      <td>1.351210e+09</td>\n",
       "    </tr>\n",
       "  </tbody>\n",
       "</table>\n",
       "</div>"
      ],
      "text/plain": [
       "                  Id  HelpfulnessNumerator  HelpfulnessDenominator  \\\n",
       "count  568454.000000         568454.000000            568454.00000   \n",
       "mean   284227.500000              1.743817                 2.22881   \n",
       "std    164098.679298              7.636513                 8.28974   \n",
       "min         1.000000              0.000000                 0.00000   \n",
       "25%    142114.250000              0.000000                 0.00000   \n",
       "50%    284227.500000              0.000000                 1.00000   \n",
       "75%    426340.750000              2.000000                 2.00000   \n",
       "max    568454.000000            866.000000               923.00000   \n",
       "\n",
       "               Score          Time  \n",
       "count  568454.000000  5.684540e+05  \n",
       "mean        4.183199  1.296257e+09  \n",
       "std         1.310436  4.804331e+07  \n",
       "min         1.000000  9.393408e+08  \n",
       "25%         4.000000  1.271290e+09  \n",
       "50%         5.000000  1.311120e+09  \n",
       "75%         5.000000  1.332720e+09  \n",
       "max         5.000000  1.351210e+09  "
      ]
     },
     "execution_count": 112,
     "metadata": {},
     "output_type": "execute_result"
    }
   ],
   "source": [
    "df_ini.describe()"
   ]
  },
  {
   "cell_type": "markdown",
   "metadata": {},
   "source": [
    "Now let's check correctness of the user's reaction counters:"
   ]
  },
  {
   "cell_type": "code",
   "execution_count": 113,
   "metadata": {},
   "outputs": [
    {
     "name": "stdout",
     "output_type": "stream",
     "text": [
      "min and max values of the counters ratio:  0.0 3.0\n"
     ]
    }
   ],
   "source": [
    "print(\"min and max values of the counters ratio: \",\n",
    "      (df_ini[\"HelpfulnessNumerator\"] / df_ini[\"HelpfulnessDenominator\"]).min(), \n",
    "      (df_ini[\"HelpfulnessNumerator\"] / df_ini[\"HelpfulnessDenominator\"]).max())"
   ]
  },
  {
   "cell_type": "markdown",
   "metadata": {},
   "source": [
    "Although the counters values are in the correct range, however there is a number of records with corrupted counters ratio: number of \"useful\" replies cannot be greater than the total number of replies."
   ]
  },
  {
   "cell_type": "code",
   "execution_count": 96,
   "metadata": {},
   "outputs": [
    {
     "name": "stdout",
     "output_type": "stream",
     "text": [
      "Number of reviews with incorrect user reaction flag counters:  2\n"
     ]
    }
   ],
   "source": [
    "print(\"Number of reviews with incorrect user reaction flag counters: \",\n",
    "      (df_ini.loc[df_ini[\"HelpfulnessNumerator\"] / df_ini[\"HelpfulnessDenominator\"] > 1.0]).shape[0])"
   ]
  },
  {
   "cell_type": "markdown",
   "metadata": {},
   "source": [
    "Let's inspect these records:"
   ]
  },
  {
   "cell_type": "code",
   "execution_count": 89,
   "metadata": {},
   "outputs": [
    {
     "data": {
      "text/html": [
       "<div>\n",
       "<style scoped>\n",
       "    .dataframe tbody tr th:only-of-type {\n",
       "        vertical-align: middle;\n",
       "    }\n",
       "\n",
       "    .dataframe tbody tr th {\n",
       "        vertical-align: top;\n",
       "    }\n",
       "\n",
       "    .dataframe thead th {\n",
       "        text-align: right;\n",
       "    }\n",
       "</style>\n",
       "<table border=\"1\" class=\"dataframe\">\n",
       "  <thead>\n",
       "    <tr style=\"text-align: right;\">\n",
       "      <th></th>\n",
       "      <th>Id</th>\n",
       "      <th>ProductId</th>\n",
       "      <th>UserId</th>\n",
       "      <th>ProfileName</th>\n",
       "      <th>HelpfulnessNumerator</th>\n",
       "      <th>HelpfulnessDenominator</th>\n",
       "      <th>Score</th>\n",
       "      <th>Time</th>\n",
       "      <th>Summary</th>\n",
       "      <th>Text</th>\n",
       "    </tr>\n",
       "  </thead>\n",
       "  <tbody>\n",
       "    <tr>\n",
       "      <th>44736</th>\n",
       "      <td>44737</td>\n",
       "      <td>B001EQ55RW</td>\n",
       "      <td>A2V0I904FH7ABY</td>\n",
       "      <td>Ram</td>\n",
       "      <td>3</td>\n",
       "      <td>2</td>\n",
       "      <td>4</td>\n",
       "      <td>1212883200</td>\n",
       "      <td>Pure cocoa taste with crunchy almonds inside</td>\n",
       "      <td>It was almost a 'love at first bite' - the per...</td>\n",
       "    </tr>\n",
       "    <tr>\n",
       "      <th>64421</th>\n",
       "      <td>64422</td>\n",
       "      <td>B000MIDROQ</td>\n",
       "      <td>A161DK06JJMCYF</td>\n",
       "      <td>J. E. Stephens \"Jeanne\"</td>\n",
       "      <td>3</td>\n",
       "      <td>1</td>\n",
       "      <td>5</td>\n",
       "      <td>1224892800</td>\n",
       "      <td>Bought This for My Son at College</td>\n",
       "      <td>My son loves spaghetti so I didn't hesitate or...</td>\n",
       "    </tr>\n",
       "  </tbody>\n",
       "</table>\n",
       "</div>"
      ],
      "text/plain": [
       "          Id   ProductId          UserId              ProfileName  \\\n",
       "44736  44737  B001EQ55RW  A2V0I904FH7ABY                      Ram   \n",
       "64421  64422  B000MIDROQ  A161DK06JJMCYF  J. E. Stephens \"Jeanne\"   \n",
       "\n",
       "       HelpfulnessNumerator  HelpfulnessDenominator  Score        Time  \\\n",
       "44736                     3                       2      4  1212883200   \n",
       "64421                     3                       1      5  1224892800   \n",
       "\n",
       "                                            Summary  \\\n",
       "44736  Pure cocoa taste with crunchy almonds inside   \n",
       "64421             Bought This for My Son at College   \n",
       "\n",
       "                                                    Text  \n",
       "44736  It was almost a 'love at first bite' - the per...  \n",
       "64421  My son loves spaghetti so I didn't hesitate or...  "
      ]
     },
     "execution_count": 89,
     "metadata": {},
     "output_type": "execute_result"
    }
   ],
   "source": [
    "df_ini.loc[df_ini[\"HelpfulnessNumerator\"] / df_ini[\"HelpfulnessDenominator\"] > 1.0]"
   ]
  },
  {
   "cell_type": "markdown",
   "metadata": {},
   "source": [
    "## 1.2 Cleansing\n",
    "The records looks healthy apart the flag counters. In order to minimize the data loss, \n",
    "the *HelpfulnessNumerator* values could be decreased to the *HelpfulnessDenominator* ones\n",
    "and the records could be kept. We also imput missing *ProfileName* values on this stage:"
   ]
  },
  {
   "cell_type": "code",
   "execution_count": 102,
   "metadata": {},
   "outputs": [],
   "source": [
    "df_clean = df_ini.copy()\n",
    "incorrect_ratio = \\\n",
    "    df_clean[\"HelpfulnessNumerator\"] / df_clean[\"HelpfulnessDenominator\"] > 1.0\n",
    "df_clean.loc[incorrect_ratio, \"HelpfulnessNumerator\"] = \\\n",
    "    df_clean.loc[incorrect_ratio, \"HelpfulnessDenominator\"]\n",
    "df_clean.loc[df_clean[\"ProfileName\"].isnull(), \"ProfileName\"] = \"Imputted\""
   ]
  },
  {
   "cell_type": "markdown",
   "metadata": {},
   "source": [
    "## 1.3  Deduplication\n",
    "Now let's check for duplicating reviews:"
   ]
  },
  {
   "cell_type": "code",
   "execution_count": 118,
   "metadata": {},
   "outputs": [
    {
     "name": "stdout",
     "output_type": "stream",
     "text": [
      "Number of reviews with the same review text and score:  174779\n",
      "Number of reviews with the same review text, summary and score:  173448\n",
      "Number of reviews with the same review text, summary, UserIdand score:  173443\n",
      "Number of reviews with the same review text, summary, HelpfulnessNumerator and score:  172404\n"
     ]
    }
   ],
   "source": [
    "print(\"Number of reviews with the same review text and score: \",\n",
    "      df_clean.duplicated(subset=[\"Score\", \"Text\"]).sum())\n",
    "print(\"Number of reviews with the same review text, summary and score: \",\n",
    "      df_clean.duplicated(subset=[\"Score\", \"Text\", \"Summary\"]).sum())\n",
    "print(\n",
    "    \"Number of reviews with the same review text, summary, UserId\"\n",
    "    \"and score: \",\n",
    "    df_clean.duplicated(subset=[\"Score\", \"Text\", \"Summary\", \"UserId\"]).sum())\n",
    "print(\n",
    "    \"Number of reviews with the same review text, summary, \"\n",
    "    \"HelpfulnessNumerator and score: \",\n",
    "    df_clean.duplicated(\n",
    "        subset=[\"Score\", \"Text\", \"Summary\", \"HelpfulnessNumerator\"]).sum())\n",
    "#dpt = df_clean.pivot_table(index=[\"Score\", \"Text\", \"Summary\", \"UserId\"],\n",
    "#                       aggfunc=\"size\")\n",
    "#dpt.sort_values(ascending=False).head(30)"
   ]
  },
  {
   "cell_type": "markdown",
   "metadata": {},
   "source": [
    "There is a number of duplicating entries, including the same review text and other parameters.\n",
    "Inspecting available sources it has been found, that the source of duplication is adding of existing reviews of similar articles to the newly appearing ones (e.g. with other package design/size) by Amazon. These records can be used for training the model after deduplication. Since the task includes sentiment analysis of review text, summary, score and possibly user segmentation, the final data set will include *UserId*, *HelpfulnessNumerator* and *HelpfulnessDenominator* for possible reweighting of the review texts, *Score*, *Summary* and *Text*. The values of *HelpfulnessNumerator* and *HelpfulnessDenominator* should be summed up for the remaining record, indicating total reaction of all the users to the same review."
   ]
  },
  {
   "cell_type": "code",
   "execution_count": 134,
   "metadata": {},
   "outputs": [
    {
     "name": "stdout",
     "output_type": "stream",
     "text": [
      "Number of reviews with the same review text and score:  1331\n",
      "Number of reviews with the same review text, summary and score:  0\n",
      "Number of reviews with the same review text, summary, HelpfulnessNumerator and score:  0\n"
     ]
    },
    {
     "data": {
      "text/html": [
       "<div>\n",
       "<style scoped>\n",
       "    .dataframe tbody tr th:only-of-type {\n",
       "        vertical-align: middle;\n",
       "    }\n",
       "\n",
       "    .dataframe tbody tr th {\n",
       "        vertical-align: top;\n",
       "    }\n",
       "\n",
       "    .dataframe thead th {\n",
       "        text-align: right;\n",
       "    }\n",
       "</style>\n",
       "<table border=\"1\" class=\"dataframe\">\n",
       "  <thead>\n",
       "    <tr style=\"text-align: right;\">\n",
       "      <th></th>\n",
       "      <th>Score</th>\n",
       "      <th>Text</th>\n",
       "      <th>Summary</th>\n",
       "      <th>HelpfulnessNumerator</th>\n",
       "      <th>HelpfulnessDenominator</th>\n",
       "    </tr>\n",
       "  </thead>\n",
       "  <tbody>\n",
       "    <tr>\n",
       "      <th>394998</th>\n",
       "      <td>5</td>\n",
       "      <td>zotz's are the best candies.i order a box of 4...</td>\n",
       "      <td>great candy</td>\n",
       "      <td>0</td>\n",
       "      <td>0</td>\n",
       "    </tr>\n",
       "    <tr>\n",
       "      <th>394999</th>\n",
       "      <td>5</td>\n",
       "      <td>~ I ordered Farie's Finest Coconut powder, Map...</td>\n",
       "      <td>EXCELLENT Quality &amp; Taste; Very, Very Versatil...</td>\n",
       "      <td>6</td>\n",
       "      <td>6</td>\n",
       "    </tr>\n",
       "    <tr>\n",
       "      <th>395000</th>\n",
       "      <td>5</td>\n",
       "      <td>~ Quick Take: Tasty, chewy, soft-baked cookies...</td>\n",
       "      <td>Quaker Soft Baked Oatmeal Cookies</td>\n",
       "      <td>1</td>\n",
       "      <td>2</td>\n",
       "    </tr>\n",
       "    <tr>\n",
       "      <th>395001</th>\n",
       "      <td>5</td>\n",
       "      <td>~&lt;br /&gt;&lt;br /&gt;These are soooooooooooooooooooooo...</td>\n",
       "      <td>Yummy. yummy, yummy!!!</td>\n",
       "      <td>0</td>\n",
       "      <td>3</td>\n",
       "    </tr>\n",
       "    <tr>\n",
       "      <th>395002</th>\n",
       "      <td>5</td>\n",
       "      <td>~Earth's Best Infant Formula Soy Iron, 13.2-Ou...</td>\n",
       "      <td>Earth's Best Soy Baby Formula</td>\n",
       "      <td>0</td>\n",
       "      <td>0</td>\n",
       "    </tr>\n",
       "  </tbody>\n",
       "</table>\n",
       "</div>"
      ],
      "text/plain": [
       "        Score                                               Text  \\\n",
       "394998      5  zotz's are the best candies.i order a box of 4...   \n",
       "394999      5  ~ I ordered Farie's Finest Coconut powder, Map...   \n",
       "395000      5  ~ Quick Take: Tasty, chewy, soft-baked cookies...   \n",
       "395001      5  ~<br /><br />These are soooooooooooooooooooooo...   \n",
       "395002      5  ~Earth's Best Infant Formula Soy Iron, 13.2-Ou...   \n",
       "\n",
       "                                                  Summary  \\\n",
       "394998                                        great candy   \n",
       "394999  EXCELLENT Quality & Taste; Very, Very Versatil...   \n",
       "395000                  Quaker Soft Baked Oatmeal Cookies   \n",
       "395001                             Yummy. yummy, yummy!!!   \n",
       "395002                      Earth's Best Soy Baby Formula   \n",
       "\n",
       "        HelpfulnessNumerator  HelpfulnessDenominator  \n",
       "394998                     0                       0  \n",
       "394999                     6                       6  \n",
       "395000                     1                       2  \n",
       "395001                     0                       3  \n",
       "395002                     0                       0  "
      ]
     },
     "execution_count": 134,
     "metadata": {},
     "output_type": "execute_result"
    }
   ],
   "source": [
    "sum_user_reaction = {c: \"first\" if c == \"UserId\"\n",
    "                     else \"sum\" for c in [\"HelpfulnessNumerator\", \"HelpfulnessDenominator\"]}\n",
    "df_dedup = df_clean.groupby([\"Score\", \"Text\", \"Summary\"]).agg(sum_user_reaction).reset_index()\n",
    "print(\"Number of reviews with the same review text and score: \",\n",
    "      df_dedup.duplicated(subset=[\"Score\", \"Text\"]).sum())\n",
    "print(\"Number of reviews with the same review text, summary and score: \",\n",
    "      df_dedup.duplicated(subset=[\"Score\", \"Text\", \"Summary\"]).sum())\n",
    "print(\n",
    "    \"Number of reviews with the same review text, summary, \"\n",
    "    \"HelpfulnessNumerator and score: \",\n",
    "    df_dedup.duplicated(\n",
    "        subset=[\"Score\", \"Text\", \"Summary\", \"HelpfulnessNumerator\"]).sum())\n",
    "df_dedup.tail()"
   ]
  },
  {
   "cell_type": "markdown",
   "metadata": {},
   "source": [
    "## 1.4 Data Exploration\n",
    "Now let's take a look on the clean and deduplicated data:"
   ]
  },
  {
   "cell_type": "code",
   "execution_count": 150,
   "metadata": {},
   "outputs": [
    {
     "data": {
      "image/png": "[encoded data removed]",
      "text/plain": [
       "<Figure size 432x288 with 1 Axes>"
      ]
     },
     "metadata": {
      "needs_background": "light"
     },
     "output_type": "display_data"
    }
   ],
   "source": [
    "#df_dedup.hist(column=\"Score\")\n",
    "plt.hist(df_dedup[\"Score\"]);"
   ]
  },
  {
   "cell_type": "markdown",
   "metadata": {},
   "source": [
    "The data set is imbalanced, the 5-star reviews are dominating, it should be taken into account constructing the training set."
   ]
  },
  {
   "cell_type": "code",
   "execution_count": 151,
   "metadata": {},
   "outputs": [
    {
     "data": {
      "image/png": "[encoded data removed]",
      "text/plain": [
       "<Figure size 432x288 with 2 Axes>"
      ]
     },
     "metadata": {
      "needs_background": "light"
     },
     "output_type": "display_data"
    }
   ],
   "source": [
    "df_dedup.hist(column=[\"HelpfulnessNumerator\", \"HelpfulnessDenominator\"], log=True);"
   ]
  },
  {
   "cell_type": "markdown",
   "metadata": {},
   "source": [
    "The user reaction counters are strongly dominated by low values (especially 0), however few (about a hundred) reviews have thousands of user reactions."
   ]
  },
  {
   "cell_type": "code",
   "execution_count": 158,
   "metadata": {},
   "outputs": [
    {
     "data": {
      "image/png": "[encoded data removed]",
      "text/plain": [
       "<Figure size 432x288 with 1 Axes>"
      ]
     },
     "metadata": {
      "needs_background": "light"
     },
     "output_type": "display_data"
    }
   ],
   "source": [
    "plt.hist((df_dedup.loc[df_dedup[\"HelpfulnessDenominator\"] > 0][\"HelpfulnessNumerator\"] \n",
    "        / df_dedup.loc[df_dedup[\"HelpfulnessDenominator\"] > 0][\"HelpfulnessDenominator\"]), log=True);"
   ]
  },
  {
   "cell_type": "markdown",
   "metadata": {},
   "source": [
    "The distribution of the reviews usefulness has two pronounced peaks: at 0 (absolutely not useful reviews)\n",
    "and at 1 (absolutely useful reviews). This information could be useful for construction of the training set."
   ]
  },
  {
   "cell_type": "markdown",
   "metadata": {},
   "source": [
    "## 1.5 Exploration summary\n",
    "We have a cleaned and deduplicated dataset **df_dedup**, containing *Score*, *Text*, *Summary*, *HelpfulnessNumerator* and *HelpfulnessDenominator* columns. The dataset is imbalanced by the *Score* (5-star reviews are dominating). The *HelpfulnessNumerator* and *HelpfulnessDenominator* user reaction flag counters are informative and could be used for construction of the training set."
   ]
  },
  {
   "cell_type": "code",
   "execution_count": null,
   "metadata": {},
   "outputs": [],
   "source": []
  }
 ],
 "metadata": {
  "kernelspec": {
   "display_name": "Python 3",
   "language": "python",
   "name": "python3"
  },
  "language_info": {
   "codemirror_mode": {
    "name": "ipython",
    "version": 3
   },
   "file_extension": ".py",
   "mimetype": "text/x-python",
   "name": "python",
   "nbconvert_exporter": "python",
   "pygments_lexer": "ipython3",
   "version": "3.7.4"
  }
 },
 "nbformat": 4,
 "nbformat_minor": 2
}
