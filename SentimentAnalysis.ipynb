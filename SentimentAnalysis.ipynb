{
 "cells": [
  {
   "cell_type": "markdown",
   "metadata": {},
   "source": [
    "# 3 Sentiment analysis\n",
    "\n",
    "For the predictive model I use pretrained bidirectional transformer [BERT](https://huggingface.co/transformers/model_doc/bert.html)."
   ]
  },
  {
   "cell_type": "code",
   "execution_count": 1,
   "metadata": {},
   "outputs": [
    {
     "name": "stderr",
     "output_type": "stream",
     "text": [
      "All model checkpoint layers were used when initializing TFBertForSequenceClassification.\n",
      "\n",
      "Some layers of TFBertForSequenceClassification were not initialized from the model checkpoint at bert-base-uncased and are newly initialized: ['classifier']\n",
      "You should probably TRAIN this model on a down-stream task to be able to use it for predictions and inference.\n"
     ]
    }
   ],
   "source": [
    "import pandas as pd\n",
    "import tensorflow as tf\n",
    "import numpy as np\n",
    "import matplotlib.pyplot as plt\n",
    "import seaborn as sns\n",
    "\n",
    "from transformers import BertTokenizer, TFBertForSequenceClassification\n",
    "from transformers import InputExample, InputFeatures\n",
    "from sklearn import metrics\n",
    "\n",
    "\n",
    "sns.set(font_scale=2)\n",
    "\n",
    "\n",
    "model = TFBertForSequenceClassification.from_pretrained(\"bert-base-uncased\", num_labels= 5)\n",
    "tokenizer = BertTokenizer.from_pretrained(\"bert-base-uncased\")\n",
    "\n",
    "plt.style.use('seaborn-white')\n",
    "%matplotlib inline"
   ]
  },
  {
   "cell_type": "markdown",
   "metadata": {},
   "source": [
    "The random number seed for shuffling the training set should be used for maintaining shuffling in the case of Python runtime not keeping it's state between epochs (e.g. [Google Colab](https://colab.research.google.com)):"
   ]
  },
  {
   "cell_type": "code",
   "execution_count": 110,
   "metadata": {},
   "outputs": [],
   "source": [
    "seed_batching = 123"
   ]
  },
  {
   "cell_type": "code",
   "execution_count": 111,
   "metadata": {},
   "outputs": [
    {
     "name": "stdout",
     "output_type": "stream",
     "text": [
      "Model: \"tf_bert_for_sequence_classification\"\n",
      "_________________________________________________________________\n",
      "Layer (type)                 Output Shape              Param #   \n",
      "=================================================================\n",
      "bert (TFBertMainLayer)       multiple                  109482240 \n",
      "_________________________________________________________________\n",
      "dropout_37 (Dropout)         multiple                  0         \n",
      "_________________________________________________________________\n",
      "classifier (Dense)           multiple                  3845      \n",
      "=================================================================\n",
      "Total params: 109,486,085\n",
      "Trainable params: 109,486,085\n",
      "Non-trainable params: 0\n",
      "_________________________________________________________________\n"
     ]
    }
   ],
   "source": [
    "model.summary()"
   ]
  },
  {
   "cell_type": "markdown",
   "metadata": {},
   "source": [
    "## 3.1 Creating of Training and Validation sets\n",
    "The dataset is splitted into train (80% samples) and validation (20%) sets: "
   ]
  },
  {
   "cell_type": "markdown",
   "metadata": {},
   "source": [
    "Loading clean and deduplicated dataset (**only first 10000 rows, for actual training remove the limitation**):"
   ]
  },
  {
   "cell_type": "code",
   "execution_count": 188,
   "metadata": {},
   "outputs": [],
   "source": [
    "#df_dedup = pd.read_csv(\"./ReviewsDedupLowNT.csv.zip\", compression=\"zip\", index_col=0, nrows=10000)\n",
    "df_dedup = pd.read_csv(\"./ReviewsDedupLowNT.csv.zip\", compression=\"zip\", index_col=0)"
   ]
  },
  {
   "cell_type": "code",
   "execution_count": 189,
   "metadata": {},
   "outputs": [
    {
     "data": {
      "text/html": [
       "<div>\n",
       "<style scoped>\n",
       "    .dataframe tbody tr th:only-of-type {\n",
       "        vertical-align: middle;\n",
       "    }\n",
       "\n",
       "    .dataframe tbody tr th {\n",
       "        vertical-align: top;\n",
       "    }\n",
       "\n",
       "    .dataframe thead th {\n",
       "        text-align: right;\n",
       "    }\n",
       "</style>\n",
       "<table border=\"1\" class=\"dataframe\">\n",
       "  <thead>\n",
       "    <tr style=\"text-align: right;\">\n",
       "      <th></th>\n",
       "      <th>Text</th>\n",
       "      <th>Summary</th>\n",
       "      <th>Score</th>\n",
       "      <th>HelpfulnessNumerator</th>\n",
       "      <th>HelpfulnessDenominator</th>\n",
       "    </tr>\n",
       "  </thead>\n",
       "  <tbody>\n",
       "    <tr>\n",
       "      <th>394998</th>\n",
       "      <td>these are sooooooooooooooooooooooooo delicious...</td>\n",
       "      <td>yummy. yummy, yummy!</td>\n",
       "      <td>5</td>\n",
       "      <td>0</td>\n",
       "      <td>3</td>\n",
       "    </tr>\n",
       "    <tr>\n",
       "      <th>394999</th>\n",
       "      <td>this is a  for the price of  review because  p...</td>\n",
       "      <td>pure chocolate mallomars cookies</td>\n",
       "      <td>4</td>\n",
       "      <td>0</td>\n",
       "      <td>0</td>\n",
       "    </tr>\n",
       "    <tr>\n",
       "      <th>395000</th>\n",
       "      <td>this would be a great coffee drink to grab out...</td>\n",
       "      <td>soso espresso style coffee drink</td>\n",
       "      <td>3</td>\n",
       "      <td>1</td>\n",
       "      <td>2</td>\n",
       "    </tr>\n",
       "    <tr>\n",
       "      <th>395001</th>\n",
       "      <td>earths best infant formula soy iron,ounce is a...</td>\n",
       "      <td>earths best soy baby formula</td>\n",
       "      <td>5</td>\n",
       "      <td>0</td>\n",
       "      <td>0</td>\n",
       "    </tr>\n",
       "    <tr>\n",
       "      <th>395002</th>\n",
       "      <td>taste. i was expecting it to taste pretty clos...</td>\n",
       "      <td>ehh okay i guess.</td>\n",
       "      <td>2</td>\n",
       "      <td>1</td>\n",
       "      <td>1</td>\n",
       "    </tr>\n",
       "  </tbody>\n",
       "</table>\n",
       "</div>"
      ],
      "text/plain": [
       "                                                     Text  \\\n",
       "394998  these are sooooooooooooooooooooooooo delicious...   \n",
       "394999  this is a  for the price of  review because  p...   \n",
       "395000  this would be a great coffee drink to grab out...   \n",
       "395001  earths best infant formula soy iron,ounce is a...   \n",
       "395002  taste. i was expecting it to taste pretty clos...   \n",
       "\n",
       "                                 Summary  Score  HelpfulnessNumerator  \\\n",
       "394998              yummy. yummy, yummy!      5                     0   \n",
       "394999  pure chocolate mallomars cookies      4                     0   \n",
       "395000  soso espresso style coffee drink      3                     1   \n",
       "395001      earths best soy baby formula      5                     0   \n",
       "395002                 ehh okay i guess.      2                     1   \n",
       "\n",
       "        HelpfulnessDenominator  \n",
       "394998                       3  \n",
       "394999                       0  \n",
       "395000                       2  \n",
       "395001                       0  \n",
       "395002                       1  "
      ]
     },
     "execution_count": 189,
     "metadata": {},
     "output_type": "execute_result"
    }
   ],
   "source": [
    "df_dedup.tail(5)"
   ]
  },
  {
   "cell_type": "code",
   "execution_count": 190,
   "metadata": {},
   "outputs": [],
   "source": [
    "df_train = df_dedup.sample(frac=0.8,random_state=123)\n",
    "df_test = df_dedup.drop(train.index)"
   ]
  },
  {
   "cell_type": "code",
   "execution_count": 191,
   "metadata": {},
   "outputs": [],
   "source": [
    "def convert_df_to_twocolumn_labeldecrease(input_df, data_col_name, label_col_name):\n",
    "    out_df = input_df[[data_col_name, label_col_name]]\n",
    "    out_df = out_df.rename(columns={data_col_name: \"DATA_COLUMN\", label_col_name: \"LABEL_COLUMN\"})\n",
    "    out_df[\"LABEL_COLUMN\"] = out_df[\"LABEL_COLUMN\"] - 1\n",
    "    return(out_df)"
   ]
  },
  {
   "cell_type": "code",
   "execution_count": 192,
   "metadata": {},
   "outputs": [],
   "source": [
    "train = convert_df_to_twocolumn_labeldecrease(df_train, \"Text\", \"Score\")\n",
    "test = convert_df_to_twocolumn_labeldecrease(df_test, \"Text\", \"Score\")"
   ]
  },
  {
   "cell_type": "markdown",
   "metadata": {},
   "source": [
    "At the first step a model predicting review score based on the review text will be created.\n",
    "For training of the BERT model the dataset samples should be converted to the *InputExample* objects, containing\n",
    "\n",
    "- *guid* - unique id for the example (not used)\n",
    "- *text_a* (string) - the untokenized text of the first sequence\n",
    "- *text_b* (optional, string) - the untokenized text of the second sequence (not used)\n",
    "- label (optional, int) - The label of the example\n",
    "\n",
    "and assembled to the TensorFlow datasets *train_data* and *validation_data*:"
   ]
  },
  {
   "cell_type": "code",
   "execution_count": 113,
   "metadata": {},
   "outputs": [],
   "source": [
    "def convert_validation_to_examples(test, DATA_COLUMN, LABEL_COLUMN): \n",
    "    validation_InputExamples = test.apply(lambda x: InputExample(guid=None,\n",
    "                                                          text_a = x[DATA_COLUMN], \n",
    "                                                          text_b = None,\n",
    "                                                          label = x[LABEL_COLUMN]), axis = 1)  \n",
    "    return validation_InputExamples\n",
    "\n",
    "\n",
    "def convert_examples_to_tf_dataset(examples, tokenizer, max_length=128):\n",
    "    features = [] # -> will hold InputFeatures to be converted later\n",
    "\n",
    "    for e in examples:\n",
    "        # Documentation is really strong for this method, so please take a look at it\n",
    "        input_dict = tokenizer.encode_plus(\n",
    "            e.text_a,\n",
    "            add_special_tokens=True, # Add [CLS] and [SEP]\n",
    "            max_length=max_length, # truncates if len(s) > max_length\n",
    "            return_token_type_ids=True,\n",
    "            return_attention_mask=True,\n",
    "            pad_to_max_length=True, # pads to the right by default # CHECK THIS for pad_to_max_length\n",
    "            truncation=True\n",
    "        )\n",
    "\n",
    "        input_ids, token_type_ids, attention_mask = (input_dict[\"input_ids\"],\n",
    "            input_dict[\"token_type_ids\"], input_dict['attention_mask'])\n",
    "\n",
    "        features.append(\n",
    "            InputFeatures(\n",
    "                input_ids=input_ids, attention_mask=attention_mask, token_type_ids=token_type_ids, label=e.label\n",
    "            )\n",
    "        )\n",
    "\n",
    "    def gen():\n",
    "        for f in features:\n",
    "            yield (\n",
    "                {\n",
    "                    \"input_ids\": f.input_ids,\n",
    "                    \"attention_mask\": f.attention_mask,\n",
    "                    \"token_type_ids\": f.token_type_ids,\n",
    "                },\n",
    "                f.label,\n",
    "            )\n",
    "\n",
    "    return tf.data.Dataset.from_generator(\n",
    "        gen,\n",
    "        ({\"input_ids\": tf.int32, \"attention_mask\": tf.int32, \"token_type_ids\": tf.int32}, tf.int64),\n",
    "        (\n",
    "            {\n",
    "                \"input_ids\": tf.TensorShape([None]),\n",
    "                \"attention_mask\": tf.TensorShape([None]),\n",
    "                \"token_type_ids\": tf.TensorShape([None]),\n",
    "            },\n",
    "            tf.TensorShape([]),\n",
    "        ),\n",
    "    )\n",
    "\n",
    "\n",
    "DATA_COLUMN = 'DATA_COLUMN'\n",
    "LABEL_COLUMN = 'LABEL_COLUMN'"
   ]
  },
  {
   "cell_type": "code",
   "execution_count": 114,
   "metadata": {},
   "outputs": [
    {
     "name": "stderr",
     "output_type": "stream",
     "text": [
      "/usr/local/lib/python3.7/site-packages/transformers/tokenization_utils_base.py:2155: FutureWarning: The `pad_to_max_length` argument is deprecated and will be removed in a future version, use `padding=True` or `padding='longest'` to pad to the longest sequence in the batch, or use `padding='max_length'` to pad to a max length. In this case, you can give a specific length with `max_length` (e.g. `max_length=45`) or leave max_length to None to pad to the maximal input size of the model (e.g. 512 for Bert).\n",
      "  FutureWarning,\n"
     ]
    }
   ],
   "source": [
    "validation_InputExamples = convert_validation_to_examples(test, DATA_COLUMN, LABEL_COLUMN)\n",
    "validation_data = convert_examples_to_tf_dataset(list(validation_InputExamples), tokenizer)\n",
    "#validation_data = validation_data.batch(32)"
   ]
  },
  {
   "cell_type": "code",
   "execution_count": 36,
   "metadata": {},
   "outputs": [
    {
     "data": {
      "text/plain": [
       "<tensorflow.python.training.tracking.util.CheckpointLoadStatus at 0x1590f9e10>"
      ]
     },
     "execution_count": 36,
     "metadata": {},
     "output_type": "execute_result"
    }
   ],
   "source": [
    "model.load_weights(\"./amazon_my_trained_FL_G_k7e12ac78L03vac75VL04g2lr4\")"
   ]
  },
  {
   "cell_type": "markdown",
   "metadata": {},
   "source": [
    "## 3.2 Model analysis\n",
    "The model confusion matrix for the 500 samples validation subset is following: "
   ]
  },
  {
   "cell_type": "code",
   "execution_count": 264,
   "metadata": {},
   "outputs": [],
   "source": [
    "def batch_tokenize_predict(data_column):\n",
    "    tf_batch = tokenizer(data_column, max_length=128, padding=True, truncation=True, return_tensors='tf')\n",
    "    tf_outputs = model(tf_batch)\n",
    "    predictions = tf.nn.softmax(tf_outputs[0], axis=-1)\n",
    "    max_predictions = np.argmax(predictions, axis=1)\n",
    "    return(max_predictions)"
   ]
  },
  {
   "cell_type": "code",
   "execution_count": 265,
   "metadata": {},
   "outputs": [],
   "source": [
    "batch_length = 500\n",
    "\n",
    "text_predictions = batch_tokenize_predict(test[\"DATA_COLUMN\"].tolist()[0:batch_length])\n",
    "y_test = test[\"LABEL_COLUMN\"][0:batch_length]               \n",
    "confusion_matrix = metrics.confusion_matrix(y_test, text_predictions)"
   ]
  },
  {
   "cell_type": "code",
   "execution_count": 266,
   "metadata": {},
   "outputs": [
    {
     "data": {
      "image/png": "[encoded data removed]",
      "text/plain": [
       "<Figure size 360x360 with 2 Axes>"
      ]
     },
     "metadata": {},
     "output_type": "display_data"
    },
    {
     "name": "stdout",
     "output_type": "stream",
     "text": [
      "accuracy for 500-element validation subset is 0.694.\n"
     ]
    }
   ],
   "source": [
    "plt.figure(figsize=(5, 5))\n",
    "LABELS = ['Very Negative','Negative','Neutral','Positive','Very Positive']\n",
    "sns.heatmap(confusion_matrix, xticklabels=LABELS, yticklabels=LABELS, annot=True, fmt=\"d\", annot_kws={\"size\": 20});\n",
    "plt.title(\"Confusion matrix\", fontsize=20)\n",
    "plt.ylabel('True label', fontsize=20)\n",
    "plt.xlabel('Predicted label', fontsize=20)\n",
    "plt.show()\n",
    "\n",
    "values = confusion_matrix.view()\n",
    "error_count = values.sum() - np.trace(values)\n",
    "accuracy = 1.0 - error_count/batch_length\n",
    "print(\"accuracy for {0}-element validation subset is {1}.\".format(batch_length, accuracy))"
   ]
  },
  {
   "cell_type": "markdown",
   "metadata": {},
   "source": [
    "One can see, that mostly neighboring scored elements are misclassified.\n",
    "However a substantial number of *Very Negative* samples were missclassified as *Very Positive*.\n",
    "Let's take a look at such samples:"
   ]
  },
  {
   "cell_type": "code",
   "execution_count": 219,
   "metadata": {},
   "outputs": [],
   "source": [
    "bad_as_good = test[\"DATA_COLUMN\"][0:text_predictions.size].loc[\n",
    "    (text_predictions==4)&(test[\"LABEL_COLUMN\"][0:text_predictions.size]==0)].tolist()"
   ]
  },
  {
   "cell_type": "code",
   "execution_count": 220,
   "metadata": {},
   "outputs": [
    {
     "name": "stdout",
     "output_type": "stream",
     "text": [
      "all good things must come to an end and the end of the great season sardines is now.  previous years season sardines were too good.  season manischewitz co. no longer gets these sardines from norway.  now they supply low grade sardines from scotland canners.  last year, these were the best northern sardines available now they are inedible.  amazons web page is in error . . . the package now says product of scotland.they also switched to a much lower grade oil, pure instead of extra virgin.  it doesnt even taste like olive oil.  the fish have a poor texture and worse flavor.  i couldnt finish one can.  other sardine brands have switched from norwegian to scottish suppliers to reduce cost before.  these are among the lowest quality commodity sardines available.  anything in your local store has better flavor and texture.  these season sardines are rubbery and seem underdone.please understand im not just saying these are not up to their previous high standard.  im saying these season sardines are awful!  dont be fooled the only thing in common with last years season product is the name.\n"
     ]
    }
   ],
   "source": [
    "print(BadAsGood[0])"
   ]
  },
  {
   "cell_type": "code",
   "execution_count": 221,
   "metadata": {},
   "outputs": [
    {
     "name": "stdout",
     "output_type": "stream",
     "text": [
      "free glutamic acid in high concentration is neurotoxic. free glutamates have many many aliases msg is only one. these organic better than bouillon products simply dont have the monosodium variety of glutamic acid, so they can say no msg. its labeling trickery. the ultimate labeling question. what is natural flavor?\n"
     ]
    }
   ],
   "source": [
    "print(bad_as_good[1])"
   ]
  },
  {
   "cell_type": "code",
   "execution_count": 222,
   "metadata": {},
   "outputs": [
    {
     "name": "stdout",
     "output_type": "stream",
     "text": [
      "my family have been gluten free for  years now. i also work in the natural products industry at the senior level and have seen the deception first hand. gluten is quite a serious issue as when it is consumed the villi are inpaired and other nutrients needed to be assimilated for other necessary body functions are not absorbed. it has caused my family other serious complications from eyesight to teeth and mouth difficulties and it has to stop. i am writing this reveiw because i am tired of feeling powerless while companies are prospering at the expense of our health. i follow a paleolithic diet for the most part and recently for my birthday decided to have a turkey sandwich on udis bagels. well they are most certainly not gluten free. even if less than ppm still makes someone sick. my entire mouth broke out in canker sores and i got a white spot on my front tooth that has not gone away because the gluten sensitivity is preventing iron absorption. udis is making millions of dollars and people are getting sick even if they are not sensitive enough to feel it. we had the gluten tested at the doctors and yep sure enough it was udis bread that we reacted to. i hope this review helps at least one other person not get sick.\n"
     ]
    }
   ],
   "source": [
    "print(bad_as_good[2])"
   ]
  },
  {
   "cell_type": "code",
   "execution_count": 199,
   "metadata": {},
   "outputs": [
    {
     "name": "stdout",
     "output_type": "stream",
     "text": [
      " shipping? per each?  sell these by the case and i would have tried it.  ridiculous price.\n"
     ]
    }
   ],
   "source": [
    "print(bad_as_good[3])"
   ]
  },
  {
   "cell_type": "markdown",
   "metadata": {},
   "source": [
    "It looks like the model learned very expressive reviews as very positive. Another source of errors could be very long reviews containing many points with different sentiment.  "
   ]
  },
  {
   "cell_type": "markdown",
   "metadata": {},
   "source": [
    "## 3.3 Sentiment correlation between review summary and text "
   ]
  },
  {
   "cell_type": "code",
   "execution_count": 204,
   "metadata": {},
   "outputs": [],
   "source": [
    "summary_test = convert_df_to_twocolumn_labeldecrease(df_test, \"Summary\", \"Score\")"
   ]
  },
  {
   "cell_type": "code",
   "execution_count": 205,
   "metadata": {},
   "outputs": [
    {
     "data": {
      "text/html": [
       "<div>\n",
       "<style scoped>\n",
       "    .dataframe tbody tr th:only-of-type {\n",
       "        vertical-align: middle;\n",
       "    }\n",
       "\n",
       "    .dataframe tbody tr th {\n",
       "        vertical-align: top;\n",
       "    }\n",
       "\n",
       "    .dataframe thead th {\n",
       "        text-align: right;\n",
       "    }\n",
       "</style>\n",
       "<table border=\"1\" class=\"dataframe\">\n",
       "  <thead>\n",
       "    <tr style=\"text-align: right;\">\n",
       "      <th></th>\n",
       "      <th>DATA_COLUMN</th>\n",
       "      <th>LABEL_COLUMN</th>\n",
       "    </tr>\n",
       "  </thead>\n",
       "  <tbody>\n",
       "    <tr>\n",
       "      <th>394984</th>\n",
       "      <td>yummy</td>\n",
       "      <td>4</td>\n",
       "    </tr>\n",
       "    <tr>\n",
       "      <th>394990</th>\n",
       "      <td>yummy</td>\n",
       "      <td>4</td>\n",
       "    </tr>\n",
       "    <tr>\n",
       "      <th>394992</th>\n",
       "      <td>great tasting</td>\n",
       "      <td>4</td>\n",
       "    </tr>\n",
       "    <tr>\n",
       "      <th>394994</th>\n",
       "      <td>caffeen addicts need not apply</td>\n",
       "      <td>0</td>\n",
       "    </tr>\n",
       "    <tr>\n",
       "      <th>395000</th>\n",
       "      <td>soso espresso style coffee drink</td>\n",
       "      <td>2</td>\n",
       "    </tr>\n",
       "  </tbody>\n",
       "</table>\n",
       "</div>"
      ],
      "text/plain": [
       "                             DATA_COLUMN  LABEL_COLUMN\n",
       "394984                             yummy             4\n",
       "394990                             yummy             4\n",
       "394992                     great tasting             4\n",
       "394994    caffeen addicts need not apply             0\n",
       "395000  soso espresso style coffee drink             2"
      ]
     },
     "execution_count": 205,
     "metadata": {},
     "output_type": "execute_result"
    }
   ],
   "source": [
    "summary_test.tail()"
   ]
  },
  {
   "cell_type": "code",
   "execution_count": 267,
   "metadata": {},
   "outputs": [],
   "source": [
    "sum_predictions = batch_tokenize_predict(summary_test[\"DATA_COLUMN\"].tolist()[0:batch_length])\n",
    "confusion_matrix_sumvstext = metrics.confusion_matrix(text_predictions, sum_predictions)"
   ]
  },
  {
   "cell_type": "code",
   "execution_count": 268,
   "metadata": {},
   "outputs": [
    {
     "data": {
      "image/png": "[encoded data removed]",
      "text/plain": [
       "<Figure size 360x360 with 2 Axes>"
      ]
     },
     "metadata": {},
     "output_type": "display_data"
    },
    {
     "name": "stdout",
     "output_type": "stream",
     "text": [
      "accuracy for 500-element validation subset is 0.794.\n"
     ]
    }
   ],
   "source": [
    "plt.figure(figsize=(5, 5))\n",
    "LABELS = ['Very Negative','Negative','Neutral','Positive','Very Positive']\n",
    "sns.heatmap(confusion_matrix_sumvstext, xticklabels=LABELS, yticklabels=LABELS, annot=True, fmt=\"d\", annot_kws={\"size\": 20});\n",
    "plt.title(\"Confusion matrix\", fontsize=20)\n",
    "plt.ylabel('Predicted by Text', fontsize=20)\n",
    "plt.xlabel('Predicted by Summary', fontsize=20)\n",
    "plt.show()\n",
    "\n",
    "values = confusion_matrix_sumvstext.view()\n",
    "error_count = values.sum() - np.trace(values)\n",
    "accuracy = 1.0 - error_count/batch_length\n",
    "print(\"accuracy for {0}-element validation subset is {1}.\".format(batch_length, accuracy))"
   ]
  },
  {
   "cell_type": "markdown",
   "metadata": {},
   "source": [
    "The sentiment of Summary and Text is generally aligned. Let's inspect the cases the samples with extreme missalignment:    "
   ]
  },
  {
   "cell_type": "code",
   "execution_count": 258,
   "metadata": {},
   "outputs": [],
   "source": [
    "badtext_goodsum = df_test[[\"Text\", \"Summary\", \"Score\"]][0:text_predictions.size].loc[\n",
    "    (text_predictions==0)&(sum_predictions==4)]\n",
    "goodtext_badsum = df_test[[\"Text\", \"Summary\", \"Score\"]][0:text_predictions.size].loc[\n",
    "    (text_predictions==4)&(sum_predictions==0)]"
   ]
  },
  {
   "cell_type": "code",
   "execution_count": 261,
   "metadata": {},
   "outputs": [],
   "source": [
    "def print_text_sum_pred(text_pred, sum_pred, index):\n",
    "    df_cmp = df_test[[\"Text\", \"Summary\", \"Score\"]][0:text_predictions.size].loc[\n",
    "    (text_predictions==text_pred)&(sum_predictions==sum_pred)]\n",
    "    print(df_cmp.iloc[[index]][\"Text\"].tolist(), \n",
    "          df_cmp.iloc[[index]][\"Summary\"].tolist(), \n",
    "          df_cmp.iloc[[index]][\"Score\"])"
   ]
  },
  {
   "cell_type": "code",
   "execution_count": 260,
   "metadata": {},
   "outputs": [
    {
     "name": "stdout",
     "output_type": "stream",
     "text": [
      "['someone gave me a senseo machine, so i bought this coffee.  im very disappointed with the taste!  its bland and dull tasting.  too bad, as i have  bags now!this was my previous review.  since then, i gave away the senseo machine, but i kept the coffee and use it in a cup of hot water i do in the microwave.  the coffee is actually good.  i guess somehow the machine flavored it.  maybe its because the water doesnt sit in the coffee for long enough.  using my microwave method, i let the coffee bag brew awhile before pressing it and removing it  very good taste.  go figure!  anyway, id recommend this coffee as microwavable bags.'] ['disappointed, then happy'] 286    4\n",
      "Name: Score, dtype: int64\n"
     ]
    }
   ],
   "source": [
    "print_text_sum_pred(0, 4, 2)"
   ]
  },
  {
   "cell_type": "code",
   "execution_count": 262,
   "metadata": {},
   "outputs": [
    {
     "name": "stdout",
     "output_type": "stream",
     "text": [
      "['you expect me to eat this slog? jerry slammed down his sandwich, which, in his meaty claws, had been pressed into a mound of bread shards and ham chunks. he picked a leaf of lettuce from the shrapnel that was once, only a few moments ago, a wellmade sandwich, one created out of love. and whatd i tell you about lettuce? i dont want to see this on any more of my sandwiches! he took off his glasses and wiped his brow, falling back onto the stool at the kitchen counter.i dont know for how long i stood there, my mouth agape, my fingers clenched around the tupperware bowl of sliced ham, my knees shaking. id never seen my son so angry.he opened his coloring book and searched his crayon box for the right color. just once he said, feverishly putting a green crayon to work on a page, id like a sandwich that isnt so. so stinking plain. he glared at me a moment before searching for a new color.i was frozen. i had failed, again, to find a satisfactory sandwich for my son. as i returned the tub of ham to its place in the refrigerator, i saw the bottle of kraft chipotle mayo behind a box of capri sun juice squeezes. why hadnt i remembered this? and it hit me i had not purchased the kraft chipotle mayo, my husband had. he mentioned purchasing it the previous night, after we had made love. he said he picked up the mayonnaise for lunch that day. it was the highlight of my day  easily, he said, before rolling over to set his alarm clock.inspired, i grabbed the kraft chipotle mayo from the refrigerator. i snatched my sons plate. hey! he said. but i didnt hear, my hands, my mind, raced, turning a mound of crinkly bread and shredded ham into a manageable sandwich. i told you, im not eatingshut your mouth, my son! i commanded him, feeling a twang of guilt as he retreated to the comfort of his coloring book and crayons.new bread, new ham, mixed with the old. and then, the finishing touch, a glob of kraft chipotle mayo. peeling off the last remnants of lettuce, i slid the plate under my sons face. unsure of what had just happened, he stared at the new sandwich a moment before putting his chubby little fingers around its edges and heaving it into his eager mouth. the smile that came over him assured me of one thing kraft chipotle mayo is pretty tasty. you should buy some!'] ['my husband. he  he, uh, likes it fine'] 376    3\n",
      "Name: Score, dtype: int64\n"
     ]
    }
   ],
   "source": [
    "print_text_sum_pred(0, 4, 4)"
   ]
  },
  {
   "cell_type": "code",
   "execution_count": 263,
   "metadata": {},
   "outputs": [
    {
     "name": "stdout",
     "output_type": "stream",
     "text": [
      "['  why would anyone pay this price?  it costs about  dollars in the grocery store.  i dont get it.'] ['why would anyone pay this price?'] 425    1\n",
      "Name: Score, dtype: int64\n"
     ]
    }
   ],
   "source": [
    "print_text_sum_pred(4, 0, 2)"
   ]
  },
  {
   "cell_type": "code",
   "execution_count": 269,
   "metadata": {},
   "outputs": [
    {
     "name": "stdout",
     "output_type": "stream",
     "text": [
      "[' a bottle, they must be kidding!you can get this for. to. at anyconvenience store and they are hardly knownfor low prices.you would have to be brain damaged to paythese prices!'] ['mega ripoff!'] 471    1\n",
      "Name: Score, dtype: int64\n"
     ]
    }
   ],
   "source": [
    "print_text_sum_pred(4, 0, 4)"
   ]
  },
  {
   "cell_type": "markdown",
   "metadata": {},
   "source": [
    "The examples above shows that Summary and Text missalignment appears usually if one of the fields (Text or Summary) is very hard to classify due to lack of useful tokens in very short summary or excessive size of the review Text, containing sentences with various sentiment."
   ]
  },
  {
   "cell_type": "markdown",
   "metadata": {},
   "source": []
  }
 ],
 "metadata": {
  "kernelspec": {
   "display_name": "Python 3",
   "language": "python",
   "name": "python3"
  },
  "language_info": {
   "codemirror_mode": {
    "name": "ipython",
    "version": 3
   },
   "file_extension": ".py",
   "mimetype": "text/x-python",
   "name": "python",
   "nbconvert_exporter": "python",
   "pygments_lexer": "ipython3",
   "version": "3.7.4"
  }
 },
 "nbformat": 4,
 "nbformat_minor": 2
}
