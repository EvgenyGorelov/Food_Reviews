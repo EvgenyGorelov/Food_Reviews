{
 "cells": [
  {
   "cell_type": "markdown",
   "metadata": {},
   "source": [
    "# 2 Use pretrained BERT for sentiment analysis\n",
    "\n",
    "For the predictive model I use pretrained bidirectional transformer [BERT](https://huggingface.co/transformers/model_doc/bert.html).  It is a bidirectional transformer pretrained using a combination of masked language modeling objective and next sentence prediction on a large corpus comprising the Toronto Book Corpus and Wikipedia. This method is found to be one of the best for text classification and it is especially suitable for the project due to relatively low training effort needed for fine tuning of the already pretrained neural network."
   ]
  },
  {
   "cell_type": "code",
   "execution_count": 1,
   "metadata": {},
   "outputs": [],
   "source": [
    "import pandas as pd\n",
    "import tensorflow as tf\n",
    "import numpy as np\n",
    "import matplotlib.pyplot as plt\n",
    "import seaborn as sns\n",
    "\n",
    "from transformers import BertTokenizer, TFBertForSequenceClassification\n",
    "from transformers import InputExample, InputFeatures\n",
    "from sklearn import metrics\n",
    "\n",
    "%matplotlib inline\n",
    "sns.set(font_scale=2)\n",
    "plt.style.use(\"seaborn-white\")"
   ]
  },
  {
   "cell_type": "code",
   "execution_count": 2,
   "metadata": {},
   "outputs": [
    {
     "name": "stderr",
     "output_type": "stream",
     "text": [
      "All model checkpoint layers were used when initializing TFBertForSequenceClassification.\n",
      "\n",
      "Some layers of TFBertForSequenceClassification were not initialized from the model checkpoint at bert-base-uncased and are newly initialized: ['classifier']\n",
      "You should probably TRAIN this model on a down-stream task to be able to use it for predictions and inference.\n"
     ]
    }
   ],
   "source": [
    "model = TFBertForSequenceClassification.from_pretrained(\"bert-base-uncased\",\n",
    "                                                        num_labels=5)\n",
    "tokenizer = BertTokenizer.from_pretrained(\"bert-base-uncased\")"
   ]
  },
  {
   "cell_type": "markdown",
   "metadata": {},
   "source": [
    "The random number seed for shuffling the training set should be used for maintaining shuffling in the case of Python runtime not keeping it's state between epochs (e.g. [Google Colab](https://colab.research.google.com)):"
   ]
  },
  {
   "cell_type": "code",
   "execution_count": 3,
   "metadata": {},
   "outputs": [],
   "source": [
    "seed_batching = 123"
   ]
  },
  {
   "cell_type": "code",
   "execution_count": 4,
   "metadata": {},
   "outputs": [
    {
     "name": "stdout",
     "output_type": "stream",
     "text": [
      "Model: \"tf_bert_for_sequence_classification\"\n",
      "_________________________________________________________________\n",
      "Layer (type)                 Output Shape              Param #   \n",
      "=================================================================\n",
      "bert (TFBertMainLayer)       multiple                  109482240 \n",
      "_________________________________________________________________\n",
      "dropout_37 (Dropout)         multiple                  0         \n",
      "_________________________________________________________________\n",
      "classifier (Dense)           multiple                  3845      \n",
      "=================================================================\n",
      "Total params: 109,486,085\n",
      "Trainable params: 109,486,085\n",
      "Non-trainable params: 0\n",
      "_________________________________________________________________\n"
     ]
    }
   ],
   "source": [
    "model.summary()"
   ]
  },
  {
   "cell_type": "markdown",
   "metadata": {},
   "source": [
    "## 2.1 Creating of Training and Validation sets "
   ]
  },
  {
   "cell_type": "markdown",
   "metadata": {},
   "source": [
    "Loading clean and deduplicated dataset:"
   ]
  },
  {
   "cell_type": "code",
   "execution_count": 5,
   "metadata": {},
   "outputs": [],
   "source": [
    "df_dedup = pd.read_csv(\"./ReviewsDedupLowNT.csv.zip\",\n",
    "                       compression=\"zip\", \n",
    "                       keep_default_na=False,\n",
    "                       index_col=0)"
   ]
  },
  {
   "cell_type": "markdown",
   "metadata": {},
   "source": [
    "Transform review score to 0-based: from 1-5 stars to 0-4 label and rename column for clarity:"
   ]
  },
  {
   "cell_type": "code",
   "execution_count": 6,
   "metadata": {},
   "outputs": [
    {
     "data": {
      "text/html": [
       "<div>\n",
       "<style scoped>\n",
       "    .dataframe tbody tr th:only-of-type {\n",
       "        vertical-align: middle;\n",
       "    }\n",
       "\n",
       "    .dataframe tbody tr th {\n",
       "        vertical-align: top;\n",
       "    }\n",
       "\n",
       "    .dataframe thead th {\n",
       "        text-align: right;\n",
       "    }\n",
       "</style>\n",
       "<table border=\"1\" class=\"dataframe\">\n",
       "  <thead>\n",
       "    <tr style=\"text-align: right;\">\n",
       "      <th></th>\n",
       "      <th>Text</th>\n",
       "      <th>Summary</th>\n",
       "      <th>Label</th>\n",
       "      <th>HelpfulnessNumerator</th>\n",
       "      <th>HelpfulnessDenominator</th>\n",
       "    </tr>\n",
       "  </thead>\n",
       "  <tbody>\n",
       "    <tr>\n",
       "      <th>394998</th>\n",
       "      <td>these are sooooooooooooooooooooooooo delicious...</td>\n",
       "      <td>yummy. yummy, yummy!</td>\n",
       "      <td>4</td>\n",
       "      <td>0</td>\n",
       "      <td>3</td>\n",
       "    </tr>\n",
       "    <tr>\n",
       "      <th>394999</th>\n",
       "      <td>this is a  for the price of  review because  p...</td>\n",
       "      <td>pure chocolate mallomars cookies</td>\n",
       "      <td>3</td>\n",
       "      <td>0</td>\n",
       "      <td>0</td>\n",
       "    </tr>\n",
       "    <tr>\n",
       "      <th>395000</th>\n",
       "      <td>this would be a great coffee drink to grab out...</td>\n",
       "      <td>soso espresso style coffee drink</td>\n",
       "      <td>2</td>\n",
       "      <td>1</td>\n",
       "      <td>2</td>\n",
       "    </tr>\n",
       "    <tr>\n",
       "      <th>395001</th>\n",
       "      <td>earths best infant formula soy iron,ounce is a...</td>\n",
       "      <td>earths best soy baby formula</td>\n",
       "      <td>4</td>\n",
       "      <td>0</td>\n",
       "      <td>0</td>\n",
       "    </tr>\n",
       "    <tr>\n",
       "      <th>395002</th>\n",
       "      <td>taste. i was expecting it to taste pretty clos...</td>\n",
       "      <td>ehh okay i guess.</td>\n",
       "      <td>1</td>\n",
       "      <td>1</td>\n",
       "      <td>1</td>\n",
       "    </tr>\n",
       "  </tbody>\n",
       "</table>\n",
       "</div>"
      ],
      "text/plain": [
       "                                                     Text  \\\n",
       "394998  these are sooooooooooooooooooooooooo delicious...   \n",
       "394999  this is a  for the price of  review because  p...   \n",
       "395000  this would be a great coffee drink to grab out...   \n",
       "395001  earths best infant formula soy iron,ounce is a...   \n",
       "395002  taste. i was expecting it to taste pretty clos...   \n",
       "\n",
       "                                 Summary  Label  HelpfulnessNumerator  \\\n",
       "394998              yummy. yummy, yummy!      4                     0   \n",
       "394999  pure chocolate mallomars cookies      3                     0   \n",
       "395000  soso espresso style coffee drink      2                     1   \n",
       "395001      earths best soy baby formula      4                     0   \n",
       "395002                 ehh okay i guess.      1                     1   \n",
       "\n",
       "        HelpfulnessDenominator  \n",
       "394998                       3  \n",
       "394999                       0  \n",
       "395000                       2  \n",
       "395001                       0  \n",
       "395002                       1  "
      ]
     },
     "execution_count": 6,
     "metadata": {},
     "output_type": "execute_result"
    }
   ],
   "source": [
    "df_dedup[\"Score\"] = df_dedup[\"Score\"] - 1\n",
    "df_dedup.rename(columns={\"Score\": \"Label\"}, inplace=True)\n",
    "df_dedup.tail(5)"
   ]
  },
  {
   "cell_type": "markdown",
   "metadata": {},
   "source": [
    "The dataset is splitted into *train* (80% samples) and *test* (20%) sets:"
   ]
  },
  {
   "cell_type": "code",
   "execution_count": 7,
   "metadata": {},
   "outputs": [],
   "source": [
    "df_train = df_dedup.sample(frac=0.8, random_state=123)\n",
    "df_test = df_dedup.drop(df_train.index)"
   ]
  },
  {
   "cell_type": "markdown",
   "metadata": {},
   "source": [
    "At the first step a model predicting review score based on the review text will be created.\n",
    "For training of the BERT model the dataset samples should be converted to the *InputExample* objects, containing\n",
    "\n",
    "- *guid* - unique id for the example (not used)\n",
    "- *text_a* (string) - the untokenized text of the first sequence\n",
    "- *text_b* (optional, string) - the untokenized text of the second sequence (not used)\n",
    "- label (optional, int) - The label of the example\n",
    "\n",
    "and assembled to the TensorFlow datasets *train_data* and *validation_data*:"
   ]
  },
  {
   "cell_type": "code",
   "execution_count": 8,
   "metadata": {},
   "outputs": [],
   "source": [
    "def convert_data_to_examples(df_input, data_column, label_column):\n",
    "    input_examples = df_input.apply(lambda x:\n",
    "                                    InputExample(guid=None,\n",
    "                                                 text_a=x[data_column],\n",
    "                                                 text_b=None,\n",
    "                                                 label=x[label_column]),\n",
    "                                    axis=1)\n",
    "    return input_examples\n",
    "\n",
    "\n",
    "def convert_examples_to_tf_dataset(examples, tokenizer, max_length=128):\n",
    "    features = []\n",
    "    for e in examples:\n",
    "        input_dict = tokenizer.encode_plus(\n",
    "            e.text_a,\n",
    "            add_special_tokens=True,  # Adds [CLS] and [SEP].\n",
    "            max_length=max_length,\n",
    "            return_token_type_ids=True,\n",
    "            return_attention_mask=True,\n",
    "            padding=\"max_length\",\n",
    "            truncation=True)\n",
    "        input_ids, token_type_ids, attention_mask = (\n",
    "            input_dict[\"input_ids\"], input_dict[\"token_type_ids\"],\n",
    "            input_dict['attention_mask'])\n",
    "        features.append(InputFeatures(\n",
    "            input_ids=input_ids, attention_mask=attention_mask,\n",
    "            token_type_ids=token_type_ids, label=e.label))\n",
    "\n",
    "    def gen():\n",
    "        for f in features:\n",
    "            yield ({\n",
    "                \"input_ids\": f.input_ids,\n",
    "                \"attention_mask\": f.attention_mask,\n",
    "                \"token_type_ids\": f.token_type_ids, },\n",
    "                f.label, )\n",
    "    return tf.data.Dataset.from_generator(\n",
    "        gen, ({\n",
    "            \"input_ids\": tf.int32,\n",
    "            \"attention_mask\": tf.int32,\n",
    "            \"token_type_ids\": tf.int32},\n",
    "            tf.int64),\n",
    "        ({\n",
    "            \"input_ids\": tf.TensorShape([None]),\n",
    "            \"attention_mask\": tf.TensorShape([None]),\n",
    "            \"token_type_ids\": tf.TensorShape([None]), },\n",
    "            tf.TensorShape([]), ), )"
   ]
  },
  {
   "cell_type": "code",
   "execution_count": 9,
   "metadata": {},
   "outputs": [],
   "source": [
    "train_input_examples = convert_data_to_examples(\n",
    "    df_train, \"Text\", \"Label\") \n",
    "validation_input_examples = convert_data_to_examples(\n",
    "    df_test, \"Text\", \"Label\")\n",
    "\n",
    "train_data = convert_examples_to_tf_dataset(\n",
    "    list(train_input_examples), tokenizer)\n",
    "train_data = train_data.shuffle(\n",
    "    buffer_size=1000, seed=seed_batching).batch(32)\n",
    "\n",
    "validation_data = convert_examples_to_tf_dataset(\n",
    "    list(validation_input_examples), tokenizer)\n",
    "validation_data = validation_data.batch(32)"
   ]
  },
  {
   "cell_type": "markdown",
   "metadata": {},
   "source": [
    "## 2.2 Treating sample imbalance\n",
    "\n",
    "The classes in our dataset are highly imbalanced. Rating 5 stars (class 4) is over 60 percent of all examples with the other classes hovering around 10 percent. In order to mitigate the impact of an unbalanced training set the [*SparseCategoricalFocalLoss*](https://focal-loss.readthedocs.io/en/latest/generated/focal_loss.SparseCategoricalFocalLoss.html#focal_loss.SparseCategoricalFocalLoss) loss function is used. This function generalizes multiclass softmax cross-entropy by introducing a hyperparameter called the focusing parameter that allows hard-to-classify examples to be penalized more heavily relative to easy-to-classify examples."
   ]
  },
  {
   "cell_type": "code",
   "execution_count": 10,
   "metadata": {},
   "outputs": [
    {
     "data": {
      "image/png": "[encoded data removed]",
      "text/plain": [
       "<Figure size 432x288 with 1 Axes>"
      ]
     },
     "metadata": {
      "needs_background": "light"
     },
     "output_type": "display_data"
    }
   ],
   "source": [
    "plt.hist(df_train[\"Label\"]);"
   ]
  },
  {
   "cell_type": "code",
   "execution_count": 11,
   "metadata": {},
   "outputs": [
    {
     "data": {
      "text/plain": [
       "<Figure size 432x288 with 0 Axes>"
      ]
     },
     "metadata": {},
     "output_type": "display_data"
    }
   ],
   "source": [
    "%run SparseCategoricalFocalLoss.py"
   ]
  },
  {
   "cell_type": "markdown",
   "metadata": {},
   "source": [
    "For the proper use of the *SparseCategoricalFocalLoss* loss function the *weights*, or classes distribution in the training set should be calculated:"
   ]
  },
  {
   "cell_type": "code",
   "execution_count": 12,
   "metadata": {},
   "outputs": [],
   "source": [
    "num_classes = df_train[\"Label\"].nunique()\n",
    "classes_dist = []\n",
    "n_of_class = df_train.groupby(\"Label\")\n",
    "for i in range(num_classes):\n",
    "    classes_dist.append(len(n_of_class.groups[i])/len(df_train))\n",
    "weights = tf.convert_to_tensor(classes_dist, dtype=tf.float32)"
   ]
  },
  {
   "cell_type": "markdown",
   "metadata": {},
   "source": [
    "## 2.3 Training the model\n",
    "The actual model has been trained on the [Google Colab](https://colab.research.google.com) free runtime. In order to feed the model with different training sets across the epochs *seed_batching* random seed should be changed. The variation of *learning_rate* parameter between 1e-5 and 4e-5 as well as *gamma* power from 1 to 4 did not affected validation accuracy significantly. The *amazon_my_trained_FL_G_k7e12ac78L03vac75VL04g2lr4* model was trained within 12 epochs, 11 epochs with 2000 steps and the last epoch with 7000 steps. The training step time for the given batch size was about 400 ms for P100 GPU and 800 ms for T4 GPU in full precision mode. The mixed precision mode give 400 ms per step on T4 GPU. The validation set accuracy along the epochs is slightly above 75%."
   ]
  },
  {
   "cell_type": "code",
   "execution_count": 13,
   "metadata": {},
   "outputs": [],
   "source": [
    "model.compile(\n",
    "    optimizer=tf.keras.optimizers.Adam(\n",
    "        learning_rate=2e-5, epsilon=1e-08, clipnorm=1.0),\n",
    "    loss=SparseCategoricalFocalLoss(\n",
    "        gamma=2, class_weight=weights, from_logits=True),\n",
    "    metrics=[tf.keras.metrics.SparseCategoricalAccuracy('accuracy')])"
   ]
  },
  {
   "cell_type": "code",
   "execution_count": 15,
   "metadata": {},
   "outputs": [],
   "source": [
    "#model.fit(train_data, epochs=1, steps_per_epoch=10, validation_data=validation_data)"
   ]
  },
  {
   "cell_type": "code",
   "execution_count": null,
   "metadata": {},
   "outputs": [],
   "source": [
    "#model.load_weights(\"./amazon_my_trained_FL_G_e3x3vac77\")"
   ]
  },
  {
   "cell_type": "markdown",
   "metadata": {},
   "source": [
    "Output of the actual training process at Google Colab:"
   ]
  },
  {
   "cell_type": "raw",
   "metadata": {},
   "source": [
    "opt = tf.keras.optimizers.Adam(learning_rate=2e-5, epsilon=1e-08, clipnorm=1.0)\n",
    "opt = tf.keras.mixed_precision.LossScaleOptimizer(opt)\n",
    "model.compile(optimizer=opt, \n",
    "              loss=SparseCategoricalFocalLoss(gamma=1.5, class_weight=weights, from_logits=True), \n",
    "              metrics=[tf.keras.metrics.SparseCategoricalAccuracy('accuracy')])\n",
    "\n",
    "model.fit(train_data, epochs=3, steps_per_epoch=3333, validation_data=validation_data)\n",
    "\n",
    "Epoch 1/3\n",
    "3333/3333 [==============================] - ETA: 0s - loss: 0.0239 - accuracy: 0.8480WARNING:tensorflow:The parameters `output_attentions`, `output_hidden_states` and `use_cache` cannot be updated when calling a model.They have to be set to True/False in the config object (i.e.: `config=XConfig.from_pretrained('name', output_attentions=True)`).\n",
    "WARNING:tensorflow:The parameter `return_dict` cannot be set in graph mode and will always be set to `True`.\n",
    "3333/3333 [==============================] - 1685s 505ms/step - loss: 0.0239 - accuracy: 0.8480 - val_loss: 0.0616 - val_accuracy: 0.7663\n",
    "Epoch 2/3\n",
    "3333/3333 [==============================] - 1679s 504ms/step - loss: 0.0390 - accuracy: 0.7762 - val_loss: 0.0520 - val_accuracy: 0.7655\n",
    "Epoch 3/3\n",
    "3333/3333 [==============================] - 1679s 504ms/step - loss: 0.0436 - accuracy: 0.7626 - val_loss: 0.0741 - val_accuracy: 0.7726\n",
    "<tensorflow.python.keras.callbacks.History at 0x7f839e8bc750>\n",
    "\n",
    "model.save_weights(\"./drive/My Drive/Bert/amazon_my_trained_FL_G_e3x3vac77\")"
   ]
  },
  {
   "cell_type": "markdown",
   "metadata": {},
   "source": [
    "The similarity of train and validation loss shows absence of overfitting."
   ]
  },
  {
   "cell_type": "markdown",
   "metadata": {},
   "source": [
    "## 2.4 Outlook\n",
    "\n",
    "The model accuracy can be enhanced following ways:\n",
    "\n",
    "- Training on cloud, making the model possible to see all the training examples during each epoch in reasonable time.\n",
    "- Use human-assisted filtering, namely *HelpfulnessNumerator* and\t*HelpfulnessDenominator* dataset columns, constructing DNN classifier using last BERT layer (of size 768), *HelpfulnessNumerator* and\t*HelpfulnessDenominator* as an input."
   ]
  },
  {
   "cell_type": "code",
   "execution_count": null,
   "metadata": {},
   "outputs": [],
   "source": []
  }
 ],
 "metadata": {
  "kernelspec": {
   "display_name": "Python 3",
   "language": "python",
   "name": "python3"
  },
  "language_info": {
   "codemirror_mode": {
    "name": "ipython",
    "version": 3
   },
   "file_extension": ".py",
   "mimetype": "text/x-python",
   "name": "python",
   "nbconvert_exporter": "python",
   "pygments_lexer": "ipython3",
   "version": "3.7.4"
  }
 },
 "nbformat": 4,
 "nbformat_minor": 2
}
