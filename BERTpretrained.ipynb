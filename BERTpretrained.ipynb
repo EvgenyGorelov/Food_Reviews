{
 "cells": [
  {
   "cell_type": "markdown",
   "metadata": {},
   "source": [
    "# 2 Use pre-trained BERT for sentiment analysis\n",
    "\n",
    "For the predictive model I use pretrained bidirectional transformer [BERT](https://huggingface.co/transformers/model_doc/bert.html).\n",
    "\n",
    "## 2.1 Creating of Training and Validation sets"
   ]
  },
  {
   "cell_type": "code",
   "execution_count": 1,
   "metadata": {},
   "outputs": [
    {
     "name": "stderr",
     "output_type": "stream",
     "text": [
      "All model checkpoint layers were used when initializing TFBertForSequenceClassification.\n",
      "\n",
      "Some layers of TFBertForSequenceClassification were not initialized from the model checkpoint at bert-base-uncased and are newly initialized: ['classifier']\n",
      "You should probably TRAIN this model on a down-stream task to be able to use it for predictions and inference.\n"
     ]
    }
   ],
   "source": [
    "import pandas as pd\n",
    "import tensorflow as tf\n",
    "import numpy as np\n",
    "import matplotlib.pyplot as plt\n",
    "\n",
    "from transformers import BertTokenizer, TFBertForSequenceClassification\n",
    "from transformers import InputExample, InputFeatures\n",
    "#import tensorflow_addons as tfa \n",
    "\n",
    "model = TFBertForSequenceClassification.from_pretrained(\"bert-base-uncased\", num_labels= 5)\n",
    "tokenizer = BertTokenizer.from_pretrained(\"bert-base-uncased\")\n",
    "\n",
    "plt.style.use('seaborn-white')\n",
    "%matplotlib inline"
   ]
  },
  {
   "cell_type": "markdown",
   "metadata": {},
   "source": [
    "The random number seed for shuffling the training set should be used for maintaining shuffling in the case of Python runtime not keeping it's state between epochs (e.g. [Google Colab](https://colab.research.google.com)):"
   ]
  },
  {
   "cell_type": "code",
   "execution_count": 28,
   "metadata": {},
   "outputs": [],
   "source": [
    "seed_trainset = 123"
   ]
  },
  {
   "cell_type": "code",
   "execution_count": 3,
   "metadata": {},
   "outputs": [
    {
     "name": "stdout",
     "output_type": "stream",
     "text": [
      "Model: \"tf_bert_for_sequence_classification\"\n",
      "_________________________________________________________________\n",
      "Layer (type)                 Output Shape              Param #   \n",
      "=================================================================\n",
      "bert (TFBertMainLayer)       multiple                  109482240 \n",
      "_________________________________________________________________\n",
      "dropout_37 (Dropout)         multiple                  0         \n",
      "_________________________________________________________________\n",
      "classifier (Dense)           multiple                  3845      \n",
      "=================================================================\n",
      "Total params: 109,486,085\n",
      "Trainable params: 109,486,085\n",
      "Non-trainable params: 0\n",
      "_________________________________________________________________\n"
     ]
    }
   ],
   "source": [
    "model.summary()"
   ]
  },
  {
   "cell_type": "markdown",
   "metadata": {},
   "source": [
    "Loading clean and deduplicated dataset (**only first 10000 rows, for actual training remove the limitation**):"
   ]
  },
  {
   "cell_type": "code",
   "execution_count": 4,
   "metadata": {},
   "outputs": [],
   "source": [
    "df_dedup = pd.read_csv(\"./ReviewsDedupLowNT.csv.zip\", compression=\"zip\", index_col=0, nrows=10000)"
   ]
  },
  {
   "cell_type": "code",
   "execution_count": 5,
   "metadata": {},
   "outputs": [
    {
     "data": {
      "text/html": [
       "<div>\n",
       "<style scoped>\n",
       "    .dataframe tbody tr th:only-of-type {\n",
       "        vertical-align: middle;\n",
       "    }\n",
       "\n",
       "    .dataframe tbody tr th {\n",
       "        vertical-align: top;\n",
       "    }\n",
       "\n",
       "    .dataframe thead th {\n",
       "        text-align: right;\n",
       "    }\n",
       "</style>\n",
       "<table border=\"1\" class=\"dataframe\">\n",
       "  <thead>\n",
       "    <tr style=\"text-align: right;\">\n",
       "      <th></th>\n",
       "      <th>Text</th>\n",
       "      <th>Summary</th>\n",
       "      <th>Score</th>\n",
       "      <th>HelpfulnessNumerator</th>\n",
       "      <th>HelpfulnessDenominator</th>\n",
       "    </tr>\n",
       "  </thead>\n",
       "  <tbody>\n",
       "    <tr>\n",
       "      <th>9990</th>\n",
       "      <td>ah mint. my wife and i both adore mint, but im...</td>\n",
       "      <td>a shamrock whatnow?</td>\n",
       "      <td>5</td>\n",
       "      <td>0</td>\n",
       "      <td>0</td>\n",
       "    </tr>\n",
       "    <tr>\n",
       "      <th>9991</th>\n",
       "      <td>ah the controversial swheat scoops litter!  do...</td>\n",
       "      <td>doesnt work well with litter robot ii</td>\n",
       "      <td>3</td>\n",
       "      <td>0</td>\n",
       "      <td>0</td>\n",
       "    </tr>\n",
       "    <tr>\n",
       "      <th>9992</th>\n",
       "      <td>ah! how time flies! growing up in a family sca...</td>\n",
       "      <td>chilfhood memories relived</td>\n",
       "      <td>5</td>\n",
       "      <td>4</td>\n",
       "      <td>4</td>\n",
       "    </tr>\n",
       "    <tr>\n",
       "      <th>9993</th>\n",
       "      <td>ah, indomie mi goreng.  the crack of the ramen...</td>\n",
       "      <td>the worlds most addictive ramen</td>\n",
       "      <td>5</td>\n",
       "      <td>8</td>\n",
       "      <td>8</td>\n",
       "    </tr>\n",
       "    <tr>\n",
       "      <th>9994</th>\n",
       "      <td>ah, millstone entered our lives when the super...</td>\n",
       "      <td>smell  tastes divine!</td>\n",
       "      <td>5</td>\n",
       "      <td>0</td>\n",
       "      <td>0</td>\n",
       "    </tr>\n",
       "    <tr>\n",
       "      <th>9995</th>\n",
       "      <td>ah, tim burton before he started taking himsel...</td>\n",
       "      <td>freaky, silly, wry and creative</td>\n",
       "      <td>5</td>\n",
       "      <td>0</td>\n",
       "      <td>0</td>\n",
       "    </tr>\n",
       "    <tr>\n",
       "      <th>9996</th>\n",
       "      <td>ah, a mallomar...or two...or three...or the en...</td>\n",
       "      <td>mallomars are the best!</td>\n",
       "      <td>5</td>\n",
       "      <td>1</td>\n",
       "      <td>1</td>\n",
       "    </tr>\n",
       "    <tr>\n",
       "      <th>9997</th>\n",
       "      <td>ah, finally, a treat that jp, my dog loves. we...</td>\n",
       "      <td>veterinarian review</td>\n",
       "      <td>5</td>\n",
       "      <td>0</td>\n",
       "      <td>0</td>\n",
       "    </tr>\n",
       "    <tr>\n",
       "      <th>9998</th>\n",
       "      <td>ah, its the old rule that things that taste go...</td>\n",
       "      <td>grams  fat in  tablespoons...and lots of suga...</td>\n",
       "      <td>2</td>\n",
       "      <td>2</td>\n",
       "      <td>2</td>\n",
       "    </tr>\n",
       "    <tr>\n",
       "      <th>9999</th>\n",
       "      <td>ah, my favorite......i have fibromyalgia and t...</td>\n",
       "      <td>kirkland signature ito en match blend green tea</td>\n",
       "      <td>5</td>\n",
       "      <td>0</td>\n",
       "      <td>0</td>\n",
       "    </tr>\n",
       "  </tbody>\n",
       "</table>\n",
       "</div>"
      ],
      "text/plain": [
       "                                                   Text  \\\n",
       "9990  ah mint. my wife and i both adore mint, but im...   \n",
       "9991  ah the controversial swheat scoops litter!  do...   \n",
       "9992  ah! how time flies! growing up in a family sca...   \n",
       "9993  ah, indomie mi goreng.  the crack of the ramen...   \n",
       "9994  ah, millstone entered our lives when the super...   \n",
       "9995  ah, tim burton before he started taking himsel...   \n",
       "9996  ah, a mallomar...or two...or three...or the en...   \n",
       "9997  ah, finally, a treat that jp, my dog loves. we...   \n",
       "9998  ah, its the old rule that things that taste go...   \n",
       "9999  ah, my favorite......i have fibromyalgia and t...   \n",
       "\n",
       "                                                Summary  Score  \\\n",
       "9990                                a shamrock whatnow?      5   \n",
       "9991              doesnt work well with litter robot ii      3   \n",
       "9992                         chilfhood memories relived      5   \n",
       "9993                    the worlds most addictive ramen      5   \n",
       "9994                              smell  tastes divine!      5   \n",
       "9995                    freaky, silly, wry and creative      5   \n",
       "9996                            mallomars are the best!      5   \n",
       "9997                                veterinarian review      5   \n",
       "9998   grams  fat in  tablespoons...and lots of suga...      2   \n",
       "9999    kirkland signature ito en match blend green tea      5   \n",
       "\n",
       "      HelpfulnessNumerator  HelpfulnessDenominator  \n",
       "9990                     0                       0  \n",
       "9991                     0                       0  \n",
       "9992                     4                       4  \n",
       "9993                     8                       8  \n",
       "9994                     0                       0  \n",
       "9995                     0                       0  \n",
       "9996                     1                       1  \n",
       "9997                     0                       0  \n",
       "9998                     2                       2  \n",
       "9999                     0                       0  "
      ]
     },
     "execution_count": 5,
     "metadata": {},
     "output_type": "execute_result"
    }
   ],
   "source": [
    "df_dedup.tail(10)"
   ]
  },
  {
   "cell_type": "markdown",
   "metadata": {},
   "source": [
    "As the first step a model predicting review score based on the review text will be created."
   ]
  },
  {
   "cell_type": "code",
   "execution_count": 6,
   "metadata": {},
   "outputs": [],
   "source": [
    "text_labels = df_dedup.drop(columns=[\"Summary\", \"HelpfulnessNumerator\", \"HelpfulnessDenominator\"])\n",
    "text_labels = text_labels.rename(columns={\"Text\": \"DATA_COLUMN\", \"Score\": \"LABEL_COLUMN\"})\n",
    "text_labels[\"LABEL_COLUMN\"] = text_labels[\"LABEL_COLUMN\"] - 1"
   ]
  },
  {
   "cell_type": "code",
   "execution_count": 7,
   "metadata": {},
   "outputs": [
    {
     "data": {
      "text/html": [
       "<div>\n",
       "<style scoped>\n",
       "    .dataframe tbody tr th:only-of-type {\n",
       "        vertical-align: middle;\n",
       "    }\n",
       "\n",
       "    .dataframe tbody tr th {\n",
       "        vertical-align: top;\n",
       "    }\n",
       "\n",
       "    .dataframe thead th {\n",
       "        text-align: right;\n",
       "    }\n",
       "</style>\n",
       "<table border=\"1\" class=\"dataframe\">\n",
       "  <thead>\n",
       "    <tr style=\"text-align: right;\">\n",
       "      <th></th>\n",
       "      <th>DATA_COLUMN</th>\n",
       "      <th>LABEL_COLUMN</th>\n",
       "    </tr>\n",
       "  </thead>\n",
       "  <tbody>\n",
       "    <tr>\n",
       "      <th>9995</th>\n",
       "      <td>ah, tim burton before he started taking himsel...</td>\n",
       "      <td>4</td>\n",
       "    </tr>\n",
       "    <tr>\n",
       "      <th>9996</th>\n",
       "      <td>ah, a mallomar...or two...or three...or the en...</td>\n",
       "      <td>4</td>\n",
       "    </tr>\n",
       "    <tr>\n",
       "      <th>9997</th>\n",
       "      <td>ah, finally, a treat that jp, my dog loves. we...</td>\n",
       "      <td>4</td>\n",
       "    </tr>\n",
       "    <tr>\n",
       "      <th>9998</th>\n",
       "      <td>ah, its the old rule that things that taste go...</td>\n",
       "      <td>1</td>\n",
       "    </tr>\n",
       "    <tr>\n",
       "      <th>9999</th>\n",
       "      <td>ah, my favorite......i have fibromyalgia and t...</td>\n",
       "      <td>4</td>\n",
       "    </tr>\n",
       "  </tbody>\n",
       "</table>\n",
       "</div>"
      ],
      "text/plain": [
       "                                            DATA_COLUMN  LABEL_COLUMN\n",
       "9995  ah, tim burton before he started taking himsel...             4\n",
       "9996  ah, a mallomar...or two...or three...or the en...             4\n",
       "9997  ah, finally, a treat that jp, my dog loves. we...             4\n",
       "9998  ah, its the old rule that things that taste go...             1\n",
       "9999  ah, my favorite......i have fibromyalgia and t...             4"
      ]
     },
     "execution_count": 7,
     "metadata": {},
     "output_type": "execute_result"
    }
   ],
   "source": [
    "text_labels.tail()"
   ]
  },
  {
   "cell_type": "markdown",
   "metadata": {},
   "source": [
    "The dataset is splitted into train (80% samples) and validation (20%) sets: "
   ]
  },
  {
   "cell_type": "code",
   "execution_count": 8,
   "metadata": {},
   "outputs": [],
   "source": [
    "train = text_labels.sample(frac=0.8,random_state=123)\n",
    "test = text_labels.drop(train.index)"
   ]
  },
  {
   "cell_type": "markdown",
   "metadata": {},
   "source": [
    "For training of the BERT model the dataset samples should be converted to the *InputExample* objects, containing\n",
    "\n",
    "- *guid* - unique id for the example (not used)\n",
    "- *text_a* (string) - the untokenized text of the first sequence\n",
    "- *text_b* (optional, string) - the untokenized text of the second sequence (not used)\n",
    "- label (optional, int) - The label of the example\n",
    "\n",
    "and assembled to the TensorFlow datasets *train_data* and *validation_data*:"
   ]
  },
  {
   "cell_type": "code",
   "execution_count": 12,
   "metadata": {},
   "outputs": [],
   "source": [
    "def convert_data_to_examples(train, test, DATA_COLUMN, LABEL_COLUMN): \n",
    "    train_InputExamples = train.apply(lambda x: InputExample(guid=None,\n",
    "                                                          text_a = x[DATA_COLUMN], \n",
    "                                                          text_b = None,\n",
    "                                                          label = x[LABEL_COLUMN]), axis = 1)\n",
    "\n",
    "    validation_InputExamples = test.apply(lambda x: InputExample(guid=None,\n",
    "                                                          text_a = x[DATA_COLUMN], \n",
    "                                                          text_b = None,\n",
    "                                                          label = x[LABEL_COLUMN]), axis = 1)\n",
    "  \n",
    "    return train_InputExamples, validation_InputExamples\n",
    "\n",
    "    train_InputExamples, validation_InputExamples = convert_data_to_examples(train, \n",
    "                                                                           test, \n",
    "                                                                           'DATA_COLUMN', \n",
    "                                                                           'LABEL_COLUMN')\n",
    "\n",
    "def convert_examples_to_tf_dataset(examples, tokenizer, max_length=128):\n",
    "    features = [] # -> will hold InputFeatures to be converted later\n",
    "\n",
    "    for e in examples:\n",
    "        # Documentation is really strong for this method, so please take a look at it\n",
    "        input_dict = tokenizer.encode_plus(\n",
    "            e.text_a,\n",
    "            add_special_tokens=True, # Add [CLS] and [SEP]\n",
    "            max_length=max_length, # truncates if len(s) > max_length\n",
    "            return_token_type_ids=True,\n",
    "            return_attention_mask=True,\n",
    "            pad_to_max_length=True, # pads to the right by default # CHECK THIS for pad_to_max_length\n",
    "            truncation=True\n",
    "        )\n",
    "\n",
    "        input_ids, token_type_ids, attention_mask = (input_dict[\"input_ids\"],\n",
    "            input_dict[\"token_type_ids\"], input_dict['attention_mask'])\n",
    "\n",
    "        features.append(\n",
    "            InputFeatures(\n",
    "                input_ids=input_ids, attention_mask=attention_mask, token_type_ids=token_type_ids, label=e.label\n",
    "            )\n",
    "        )\n",
    "\n",
    "    def gen():\n",
    "        for f in features:\n",
    "            yield (\n",
    "                {\n",
    "                    \"input_ids\": f.input_ids,\n",
    "                    \"attention_mask\": f.attention_mask,\n",
    "                    \"token_type_ids\": f.token_type_ids,\n",
    "                },\n",
    "                f.label,\n",
    "            )\n",
    "\n",
    "    return tf.data.Dataset.from_generator(\n",
    "        gen,\n",
    "        ({\"input_ids\": tf.int32, \"attention_mask\": tf.int32, \"token_type_ids\": tf.int32}, tf.int64),\n",
    "        (\n",
    "            {\n",
    "                \"input_ids\": tf.TensorShape([None]),\n",
    "                \"attention_mask\": tf.TensorShape([None]),\n",
    "                \"token_type_ids\": tf.TensorShape([None]),\n",
    "            },\n",
    "            tf.TensorShape([]),\n",
    "        ),\n",
    "    )\n",
    "\n",
    "\n",
    "DATA_COLUMN = 'DATA_COLUMN'\n",
    "LABEL_COLUMN = 'LABEL_COLUMN'"
   ]
  },
  {
   "cell_type": "code",
   "execution_count": 13,
   "metadata": {},
   "outputs": [
    {
     "name": "stderr",
     "output_type": "stream",
     "text": [
      "/usr/local/lib/python3.7/site-packages/transformers/tokenization_utils_base.py:2155: FutureWarning: The `pad_to_max_length` argument is deprecated and will be removed in a future version, use `padding=True` or `padding='longest'` to pad to the longest sequence in the batch, or use `padding='max_length'` to pad to a max length. In this case, you can give a specific length with `max_length` (e.g. `max_length=45`) or leave max_length to None to pad to the maximal input size of the model (e.g. 512 for Bert).\n",
      "  FutureWarning,\n"
     ]
    }
   ],
   "source": [
    "train_InputExamples, validation_InputExamples = convert_data_to_examples(train, test, DATA_COLUMN, LABEL_COLUMN)\n",
    "\n",
    "train_data = convert_examples_to_tf_dataset(list(train_InputExamples), tokenizer)\n",
    "train_data = train_data.shuffle(buffer_size=1000, seed=seed_trainset).batch(32).repeat(2)\n",
    "\n",
    "validation_data = convert_examples_to_tf_dataset(list(validation_InputExamples), tokenizer)\n",
    "validation_data = validation_data.batch(32)"
   ]
  },
  {
   "cell_type": "markdown",
   "metadata": {},
   "source": [
    "## Treating imbalance\n",
    "\n",
    "The classes in our dataset are highly imbalanced. Rating 5(Class 4) is over 60 percent of all examples with the other classes hovering around 10 percent. In order to mitigate the impact of an unbalanced training set the [*SparseCategoricalFocalLoss*](https://focal-loss.readthedocs.io/en/latest/generated/focal_loss.SparseCategoricalFocalLoss.html#focal_loss.SparseCategoricalFocalLoss) loss function is used. This function generalizes multiclass softmax cross-entropy by introducing a hyperparameter called the focusing parameter that allows hard-to-classify examples to be penalized more heavily relative to easy-to-classify examples."
   ]
  },
  {
   "cell_type": "code",
   "execution_count": 32,
   "metadata": {},
   "outputs": [
    {
     "data": {
      "image/png": "[encoded data removed]",
      "text/plain": [
       "<Figure size 432x288 with 1 Axes>"
      ]
     },
     "metadata": {
      "needs_background": "light"
     },
     "output_type": "display_data"
    }
   ],
   "source": [
    "plt.hist(text_labels[\"LABEL_COLUMN\"]);"
   ]
  },
  {
   "cell_type": "code",
   "execution_count": 31,
   "metadata": {},
   "outputs": [],
   "source": [
    "%run SparseCategoricalFocalLoss.py"
   ]
  },
  {
   "cell_type": "markdown",
   "metadata": {},
   "source": [
    "For the proper use of the *SparseCategoricalFocalLoss* loss function the *weights*, or classes distribution in the training set should be calculated:"
   ]
  },
  {
   "cell_type": "code",
   "execution_count": 29,
   "metadata": {},
   "outputs": [],
   "source": [
    "num_classes = text_labels[\"LABEL_COLUMN\"].nunique()\n",
    "classes_dist = []\n",
    "n_of_class = text_labels.groupby(\"LABEL_COLUMN\")\n",
    "for i in range(num_classes):\n",
    "    classes_dist.append(len(n_of_class.groups[i])/len(text_labels))\n",
    "weights = tf.convert_to_tensor(classes_dist, dtype=tf.float32)"
   ]
  },
  {
   "cell_type": "markdown",
   "metadata": {},
   "source": [
    "The actual model has been trained on the [Google Colab](https://colab.research.google.com) free runtime. In order to feed the model with different training sets across the epochs *seed_trainset* random seed should be changed. The variation of *learning_rate* parameter between 1e-5 and 4e-5 as well as *gamma* power from 1 to 4 did not affected validation accuracy significantly. The *amazon_my_trained_FL_G_k7e12ac78L03vac75VL04g2lr4* model was trained within 12 epochs, 11 epochs with 2000 steps and the last epoch with 7000 steps (about 7% of original training set used for the training). The training step time for the given batch size was about 400 ms for P100 GPU and 800 ms for T4 GPU. The validation set accuracy along the epochs was around 75%."
   ]
  },
  {
   "cell_type": "code",
   "execution_count": 33,
   "metadata": {},
   "outputs": [],
   "source": [
    "model.compile(optimizer=tf.keras.optimizers.Adam(learning_rate=2e-5, epsilon=1e-08, clipnorm=1.0), \n",
    "              loss=SparseCategoricalFocalLoss(gamma=2, class_weight=weights, from_logits=True), \n",
    "              metrics=[tf.keras.metrics.SparseCategoricalAccuracy('accuracy')])"
   ]
  },
  {
   "cell_type": "code",
   "execution_count": 35,
   "metadata": {},
   "outputs": [],
   "source": [
    "#model.fit(train_data, epochs=1, validation_data=validation_data)"
   ]
  },
  {
   "cell_type": "code",
   "execution_count": 36,
   "metadata": {},
   "outputs": [
    {
     "data": {
      "text/plain": [
       "<tensorflow.python.training.tracking.util.CheckpointLoadStatus at 0x1590f9e10>"
      ]
     },
     "execution_count": 36,
     "metadata": {},
     "output_type": "execute_result"
    }
   ],
   "source": [
    "model.load_weights(\"./amazon_my_trained_FL_G_k7e12ac78L03vac75VL04g2lr4\")"
   ]
  },
  {
   "cell_type": "markdown",
   "metadata": {},
   "source": [
    "The model confusion matrix for the 400 samples validation subset is following: "
   ]
  },
  {
   "cell_type": "code",
   "execution_count": 62,
   "metadata": {},
   "outputs": [
    {
     "data": {
      "image/png": "[encoded data removed]",
      "text/plain": [
       "<Figure size 360x360 with 2 Axes>"
      ]
     },
     "metadata": {},
     "output_type": "display_data"
    },
    {
     "name": "stdout",
     "output_type": "stream",
     "text": [
      "accuracy for 400-element validation subset is 0.685.\n"
     ]
    }
   ],
   "source": [
    "# Using tf.keras.losses.SparseCategoricalCrossentropy() loss function\n",
    "%matplotlib inline\n",
    "from sklearn import metrics\n",
    "import matplotlib.pyplot as plt\n",
    "import seaborn as sns\n",
    "sns.set(font_scale=2)\n",
    "\n",
    "\n",
    "tf_batch = tokenizer(test[\"DATA_COLUMN\"].tolist()[0:400], max_length=128, padding=True, truncation=True, return_tensors='tf')\n",
    "tf_outputs = model(tf_batch)\n",
    "predictions = tf.nn.softmax(tf_outputs[0], axis=-1)\n",
    "\n",
    "y_test = test[\"LABEL_COLUMN\"].tolist()[0:400]               \n",
    "                     \n",
    "LABELS = ['Very Negative','Negative','Neutral','Positive','Very Positive']\n",
    "\n",
    "#X_test = test[\"DATA_COLUMN\"]\n",
    "#y_test = test[\"LABEL_COLUMN\"]\n",
    "#predictions = model.predict(X_test, batch_size=1000)\n",
    "#max_test = np.argmax(y_test, axis=1)\n",
    "\n",
    "max_predictions = np.argmax(predictions, axis=1)\n",
    "confusion_matrix = metrics.confusion_matrix(y_test, max_predictions)\n",
    "\n",
    "plt.figure(figsize=(5, 5))\n",
    "sns.heatmap(confusion_matrix, xticklabels=LABELS, yticklabels=LABELS, annot=True, fmt=\"d\", annot_kws={\"size\": 20});\n",
    "plt.title(\"Confusion matrix\", fontsize=20)\n",
    "plt.ylabel('True label', fontsize=20)\n",
    "plt.xlabel('Predicted label', fontsize=20)\n",
    "plt.show()\n",
    "\n",
    "values = confusion_matrix.view()\n",
    "error_count = values.sum() - np.trace(values)\n",
    "accuracy = 1.0 - error_count/max_predictions.size\n",
    "print(\"accuracy for {0}-element validation subset is {1}.\".format(max_predictions.size, accuracy))"
   ]
  },
  {
   "cell_type": "markdown",
   "metadata": {},
   "source": [
    "One can see, that mostly neighboring scored elements are misclassified.\n",
    "However a substentional number of *Very Negative* samples were missclassified as *Very Positive*.\n",
    "Let's take a look at such samples:"
   ]
  },
  {
   "cell_type": "code",
   "execution_count": 95,
   "metadata": {},
   "outputs": [],
   "source": [
    "BadAsGood = test[\"DATA_COLUMN\"][0:max_predictions.size].loc[\n",
    "    (max_predictions==4)&(test[\"LABEL_COLUMN\"][0:max_predictions.size]==0)].tolist()"
   ]
  },
  {
   "cell_type": "code",
   "execution_count": 98,
   "metadata": {},
   "outputs": [
    {
     "name": "stdout",
     "output_type": "stream",
     "text": [
      "all good things must come to an end and the end of the great season sardines is now.  previous years season sardines were too good.  season manischewitz co. no longer gets these sardines from norway.  now they supply low grade sardines from scotland canners.  last year, these were the best northern sardines available now they are inedible.  amazons web page is in error . . . the package now says product of scotland.they also switched to a much lower grade oil, pure instead of extra virgin.  it doesnt even taste like olive oil.  the fish have a poor texture and worse flavor.  i couldnt finish one can.  other sardine brands have switched from norwegian to scottish suppliers to reduce cost before.  these are among the lowest quality commodity sardines available.  anything in your local store has better flavor and texture.  these season sardines are rubbery and seem underdone.please understand im not just saying these are not up to their previous high standard.  im saying these season sardines are awful!  dont be fooled the only thing in common with last years season product is the name.\n"
     ]
    }
   ],
   "source": [
    "print(BadAsGood[0])"
   ]
  },
  {
   "cell_type": "code",
   "execution_count": 101,
   "metadata": {},
   "outputs": [
    {
     "name": "stdout",
     "output_type": "stream",
     "text": [
      ".  . shipping??  . per each?  sell these by the case and i would have tried it.  ridiculous price.\n"
     ]
    }
   ],
   "source": [
    "print(BadAsGood[1])"
   ]
  },
  {
   "cell_type": "code",
   "execution_count": 102,
   "metadata": {},
   "outputs": [
    {
     "name": "stdout",
     "output_type": "stream",
     "text": [
      " for a single serving is high compared to the price offered from nutrisystem themselves. also, despite being listed as from nutrisystem, our package came from a separate source.\n"
     ]
    }
   ],
   "source": [
    "print(BadAsGood[2])"
   ]
  },
  {
   "cell_type": "code",
   "execution_count": 103,
   "metadata": {},
   "outputs": [
    {
     "name": "stdout",
     "output_type": "stream",
     "text": [
      ". in shipping  days for a . order!?!?!?  do the math, thats over  extra on shipping alone.  are you crazy?  were not talking about scharffen berger chocolates here and they only charge  for  to  days for a  order.  i dont care what chocolate you buy, but dont get taken on the shipping for a cheap product!!!\n"
     ]
    }
   ],
   "source": [
    "print(BadAsGood[3])"
   ]
  },
  {
   "cell_type": "markdown",
   "metadata": {},
   "source": [
    "It looks like the model learned very expressive reviews as very positive. Another source of errors could be very long reviews containing many points with different sentiment.  "
   ]
  },
  {
   "cell_type": "code",
   "execution_count": null,
   "metadata": {},
   "outputs": [],
   "source": []
  }
 ],
 "metadata": {
  "kernelspec": {
   "display_name": "Python 3",
   "language": "python",
   "name": "python3"
  },
  "language_info": {
   "codemirror_mode": {
    "name": "ipython",
    "version": 3
   },
   "file_extension": ".py",
   "mimetype": "text/x-python",
   "name": "python",
   "nbconvert_exporter": "python",
   "pygments_lexer": "ipython3",
   "version": "3.7.4"
  }
 },
 "nbformat": 4,
 "nbformat_minor": 2
}
